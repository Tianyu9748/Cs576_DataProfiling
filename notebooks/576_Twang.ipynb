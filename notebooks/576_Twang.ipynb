{
 "cells": [
  {
   "cell_type": "code",
   "execution_count": 2,
   "metadata": {},
   "outputs": [],
   "source": [
    "import sys\n",
    "from pandas_profiling import ProfileReport\n",
    "import matplotlib.pyplot as plt\n",
    "import numpy as np\n",
    "import pandas as pd\n",
    "from sklearn.preprocessing import LabelEncoder\n",
    "from sklearn.metrics import f1_score\n",
    "import tensorflow as tf\n",
    "import warnings\n",
    "warnings.filterwarnings(\"ignore\")"
   ]
  },
  {
   "cell_type": "code",
   "execution_count": 3,
   "metadata": {},
   "outputs": [],
   "source": [
    "from sherlock import helpers\n",
    "from sherlock.features.preprocessing import extract_features, convert_string_lists_to_lists, prepare_feature_extraction\n",
    "from sherlock.deploy.train_sherlock import train_sherlock\n",
    "from sherlock.deploy.predict_sherlock import predict_sherlock\n",
    "from  profiling import generate_header\n",
    "from  profiling import identify_header\n",
    "from  profiling import preprocess_before_count\n",
    "from  profiling import filter_categories\n",
    "from  profiling import get_var_category\n",
    "from  profiling import process_df\n",
    "from  profiling import generate_df\n",
    "from  profiling import make_clickable\n",
    "from  profiling import read_info\n",
    "from  profiling import trans_age\n",
    "from  profiling import generate_candidate"
   ]
  },
  {
   "cell_type": "code",
   "execution_count": 4,
   "metadata": {},
   "outputs": [],
   "source": [
    "import numbers\n",
    "import json\n",
    "#'pip install git+git://github.com/clintval/gender_predictor.git'\n",
    "from gender_predictor import GenderPredictor\n",
    "import itertools\n",
    "import networkx as nx"
   ]
  },
  {
   "cell_type": "markdown",
   "metadata": {},
   "source": [
    "## Download data\n",
    "This will download the raw values and preprocessed files, the corresponding labels as well as a few other supporting files:\n",
    "- `download_data()` will download 3.6GB of data into the `data/` directory.\n",
    "- `prepare_feature_extraction()` will download +/- 800 MB of data into the `features/` directory."
   ]
  },
  {
   "cell_type": "code",
   "execution_count": 5,
   "metadata": {},
   "outputs": [
    {
     "name": "stdout",
     "output_type": "stream",
     "text": [
      "Downloading the raw and preprocessed data into ../data/data.zip.\n",
      "Data was downloaded.\n",
      "Preparing feature extraction by downloading 2 files:\n",
      "        \n",
      " ../sherlock/features/glove.6B.50d.txt and \n",
      " ../sherlock/features/par_vec_trained_400.pkl.docvecs.vectors_docs.npy.\n",
      "        \n",
      "All files for extracting word and paragraph embeddings are present.\n"
     ]
    }
   ],
   "source": [
    "helpers.download_data()\n",
    "prepare_feature_extraction()"
   ]
  },
  {
   "cell_type": "markdown",
   "metadata": {},
   "source": [
    "# Find all csv files"
   ]
  },
  {
   "cell_type": "code",
   "execution_count": 7,
   "metadata": {},
   "outputs": [],
   "source": [
    "import os\n",
    "from glob import glob\n",
    "PATH = \"F:/Data\"\n",
    "EXT = \"*.csv\""
   ]
  },
  {
   "cell_type": "code",
   "execution_count": 5,
   "metadata": {},
   "outputs": [],
   "source": [
    "#all_csv_files = [file\n",
    "                 #for path, subdir, files in os.walk(PATH)\n",
    "                 #for file in glob(os.path.join(path, EXT))]\n",
    "info = pd.DataFrame(columns = ['Dataset_ID','Age','Gender','Race','Ethnicity','Country','Maximal Uncovered Pattern(Sensitive)','Uncovered Attributes','Report'])\n",
    "processed_dataset = []"
   ]
  },
  {
   "cell_type": "code",
   "execution_count": 6,
   "metadata": {},
   "outputs": [],
   "source": [
    "all_csv_files = ['adult.csv']"
   ]
  },
  {
   "cell_type": "code",
   "execution_count": 7,
   "metadata": {},
   "outputs": [
    {
     "data": {
      "application/vnd.jupyter.widget-view+json": {
       "model_id": "62915771d1624a0987b6bc1c72b02016",
       "version_major": 2,
       "version_minor": 0
      },
      "text/plain": [
       "HBox(children=(HTML(value='Summarize dataset'), FloatProgress(value=0.0, max=29.0), HTML(value='')))"
      ]
     },
     "metadata": {},
     "output_type": "display_data"
    },
    {
     "name": "stdout",
     "output_type": "stream",
     "text": [
      "\n"
     ]
    },
    {
     "data": {
      "application/vnd.jupyter.widget-view+json": {
       "model_id": "3440399eabbd4e408da1d54df43b5694",
       "version_major": 2,
       "version_minor": 0
      },
      "text/plain": [
       "HBox(children=(HTML(value='Generate report structure'), FloatProgress(value=0.0, max=1.0), HTML(value='')))"
      ]
     },
     "metadata": {},
     "output_type": "display_data"
    },
    {
     "name": "stdout",
     "output_type": "stream",
     "text": [
      "\n"
     ]
    },
    {
     "data": {
      "application/vnd.jupyter.widget-view+json": {
       "model_id": "9e76685541a34e549fdf220725a802d6",
       "version_major": 2,
       "version_minor": 0
      },
      "text/plain": [
       "HBox(children=(HTML(value='Render HTML'), FloatProgress(value=0.0, max=1.0), HTML(value='')))"
      ]
     },
     "metadata": {},
     "output_type": "display_data"
    },
    {
     "name": "stdout",
     "output_type": "stream",
     "text": [
      "\n"
     ]
    },
    {
     "data": {
      "application/vnd.jupyter.widget-view+json": {
       "model_id": "4bfe5a118ce6415f9b740623efd42c07",
       "version_major": 2,
       "version_minor": 0
      },
      "text/plain": [
       "HBox(children=(HTML(value='Export report to file'), FloatProgress(value=0.0, max=1.0), HTML(value='')))"
      ]
     },
     "metadata": {},
     "output_type": "display_data"
    },
    {
     "name": "stderr",
     "output_type": "stream",
     "text": [
      "WARNING: Logging before flag parsing goes to stderr.\n",
      "W1211 21:52:34.999511 4343885312 deprecation.py:506] From /Users/max/opt/anaconda3/envs/cs576/lib/python3.6/site-packages/tensorflow/python/ops/init_ops.py:97: calling Zeros.__init__ (from tensorflow.python.ops.init_ops) with dtype is deprecated and will be removed in a future version.\n",
      "Instructions for updating:\n",
      "Call initializer instance with the dtype argument instead of passing it to the constructor\n",
      "W1211 21:52:35.001008 4343885312 deprecation.py:506] From /Users/max/opt/anaconda3/envs/cs576/lib/python3.6/site-packages/tensorflow/python/ops/init_ops.py:97: calling Ones.__init__ (from tensorflow.python.ops.init_ops) with dtype is deprecated and will be removed in a future version.\n",
      "Instructions for updating:\n",
      "Call initializer instance with the dtype argument instead of passing it to the constructor\n",
      "W1211 21:52:35.005221 4343885312 deprecation.py:506] From /Users/max/opt/anaconda3/envs/cs576/lib/python3.6/site-packages/tensorflow/python/ops/init_ops.py:97: calling VarianceScaling.__init__ (from tensorflow.python.ops.init_ops) with dtype is deprecated and will be removed in a future version.\n",
      "Instructions for updating:\n",
      "Call initializer instance with the dtype argument instead of passing it to the constructor\n"
     ]
    },
    {
     "name": "stdout",
     "output_type": "stream",
     "text": [
      "\n"
     ]
    },
    {
     "name": "stderr",
     "output_type": "stream",
     "text": [
      "100%|██████████| 15/15 [00:00<00:00, 429.04it/s]\n"
     ]
    },
    {
     "name": "stdout",
     "output_type": "stream",
     "text": [
      "Preparing feature extraction by downloading 2 files:\n",
      "        \n",
      " ../sherlock/features/glove.6B.50d.txt and \n",
      " ../sherlock/features/par_vec_trained_400.pkl.docvecs.vectors_docs.npy.\n",
      "        \n",
      "All files for extracting word and paragraph embeddings are present.\n"
     ]
    }
   ],
   "source": [
    "for file in all_csv_files:\n",
    "    try:\n",
    "        #dataset_ID = file[8:17]\n",
    "        dataset_ID = 'adult.csv'\n",
    "        tmp_samples = pd.read_csv(file)\n",
    "        # Generate PDF report\n",
    "        profile = ProfileReport(tmp_samples, title=dataset_ID, explorative=True)\n",
    "        output_path = \"report/\" + dataset_ID +\".html\"\n",
    "        profile.to_file(output_path)\n",
    "        header, predicted_labels,candidate,name,gender,age,country,race,ethnicity,age_attribute = generate_candidate(tmp_samples.columns,file)\n",
    "        if not header:\n",
    "            tmp_samples.columns = predicted_labels\n",
    "        for i in age_attribute:\n",
    "            tmp_samples[i] = tmp_samples[i].apply(lambda x: trans_age(x))\n",
    "        tmp, gender = preprocess_before_count(tmp_samples,name,gender)\n",
    "        mup, uncover = process_df(tmp,candidate,age)\n",
    "        #mup_unsen = filter_mup_unsen()\n",
    "        tmp_info = generate_df(dataset_ID,age,gender,race,ethnicity,country,mup,uncover)\n",
    "        #tmp_info = tmp_info.style.format({'Report': make_clickable})\n",
    "        info = pd.concat([info, tmp_info], axis=0, sort=False)\n",
    "        info.to_excel(r'output.xlsx',index = False)\n",
    "        #output = info.copy()\n",
    "        #output = output.style.format({'Report': make_clickable})\n",
    "        #output.to_excel(r'adult.xlsx', index = False)\n",
    "        processed_dataset.append(file)\n",
    "        #with open('processed.txt', 'w') as f:\n",
    "            #for item in processed_dataset:\n",
    "                #f.write(\"%s\\n\" % item)\n",
    "    except:\n",
    "        pass\n",
    "#info = info.style.format({'Report': make_clickable})\n",
    "#info.to_csv(r'info.csv', index = False)"
   ]
  },
  {
   "cell_type": "markdown",
   "metadata": {},
   "source": [
    "# Read the output info.xlsx"
   ]
  },
  {
   "cell_type": "markdown",
   "metadata": {},
   "source": [
    "with open('testSet.txt','w') as f:\n",
    "    f.write(str(uncover)) "
   ]
  },
  {
   "cell_type": "code",
   "execution_count": 14,
   "metadata": {},
   "outputs": [],
   "source": [
    "a = read_info('output.xlsx')"
   ]
  },
  {
   "cell_type": "code",
   "execution_count": 15,
   "metadata": {},
   "outputs": [
    {
     "data": {
      "text/html": [
       "<style  type=\"text/css\" >\n",
       "</style><table id=\"T_e69656cc_3c25_11eb_b354_acde48001122\" ><thead>    <tr>        <th class=\"blank level0\" ></th>        <th class=\"col_heading level0 col0\" >Dataset_ID</th>        <th class=\"col_heading level0 col1\" >Age</th>        <th class=\"col_heading level0 col2\" >Gender</th>        <th class=\"col_heading level0 col3\" >Race</th>        <th class=\"col_heading level0 col4\" >Ethnicity</th>        <th class=\"col_heading level0 col5\" >Country</th>        <th class=\"col_heading level0 col6\" >Maximal Uncovered Pattern(Sensitive)</th>        <th class=\"col_heading level0 col7\" >Uncovered Attributes</th>        <th class=\"col_heading level0 col8\" >Report</th>    </tr></thead><tbody>\n",
       "                <tr>\n",
       "                        <th id=\"T_e69656cc_3c25_11eb_b354_acde48001122level0_row0\" class=\"row_heading level0 row0\" >0</th>\n",
       "                        <td id=\"T_e69656cc_3c25_11eb_b354_acde48001122row0_col0\" class=\"data row0 col0\" >adult.csv</td>\n",
       "                        <td id=\"T_e69656cc_3c25_11eb_b354_acde48001122row0_col1\" class=\"data row0 col1\" >Exist</td>\n",
       "                        <td id=\"T_e69656cc_3c25_11eb_b354_acde48001122row0_col2\" class=\"data row0 col2\" >Exist</td>\n",
       "                        <td id=\"T_e69656cc_3c25_11eb_b354_acde48001122row0_col3\" class=\"data row0 col3\" >Exist</td>\n",
       "                        <td id=\"T_e69656cc_3c25_11eb_b354_acde48001122row0_col4\" class=\"data row0 col4\" >Not Exist</td>\n",
       "                        <td id=\"T_e69656cc_3c25_11eb_b354_acde48001122row0_col5\" class=\"data row0 col5\" >Exist</td>\n",
       "                        <td id=\"T_e69656cc_3c25_11eb_b354_acde48001122row0_col6\" class=\"data row0 col6\" >[['Trinadad&Tobago'], ['Holand-Netherlands'], ['Hong'], ['Honduras'], ['Ireland'], ['Cambodia'], ['Hungary'], ['Yugoslavia'], ['Scotland'], ['Laos'], ['Thailand'], ['Outlying-US(Guam-USVI-etc)'], ['55-64', 'Other'], ['>64', 'Amer-Indian-Eskimo'], ['55-64', 'Amer-Indian-Eskimo'], ['>64', 'Other'], ['45-54', 'Greece'], ['>64', 'Vietnam'], ['45-54', 'China'], ['55-64', 'Greece'], ['25-34', 'Taiwan'], ['35-44', 'India'], ['>64', '?'], ['25-34', 'South'], ['>64', 'Canada'], ['25-34', 'Puerto-Rico'], ['55-64', 'South'], ['55-64', 'China'], ['35-44', 'Poland'], ['25-34', 'Iran'], ['25-34', 'England'], ['35-44', 'England'], ['25-34', 'China'], ['55-64', 'Germany'], ['45-54', 'South'], ['35-44', 'Italy'], ['35-44', 'Japan'], ['35-44', 'Taiwan'], ['55-64', 'Philippines'], ['35-44', 'South'], ['45-54', 'Cuba'], ['55-64', 'Canada'], ['35-44', 'Cuba'], ['35-44', 'Iran'], ['16-24', 'India'], ['35-44', 'Canada'], ['25-34', 'Peru'], ['35-44', 'Nicaragua'], ['16-24', 'South'], ['16-24', 'Dominican-Republic'], ['35-44', 'Vietnam'], ['25-34', 'Haiti'], ['25-34', 'Vietnam'], ['>64', 'Greece'], ['16-24', 'Taiwan'], ['55-64', 'Columbia'], ['45-54', 'Guatemala'], ['45-54', 'Japan'], ['55-64', 'India'], ['35-44', 'Haiti'], ['25-34', 'Cuba'], ['35-44', 'Germany'], ['45-54', 'Taiwan'], ['45-54', 'India'], ['>64', 'El-Salvador'], ['>64', 'England'], ['>64', 'Poland'], ['>64', 'Jamaica'], ['>64', 'Germany'], ['45-54', 'Iran'], ['45-54', 'El-Salvador'], ['55-64', 'Iran'], ['45-54', 'England'], ['45-54', 'Jamaica'], ['45-54', 'Vietnam'], ['16-24', 'Vietnam'], ['25-34', 'Greece'], ['>64', 'Ecuador'], ['>64', 'Cuba'], ['45-54', 'Italy'], ['55-64', 'France'], ['55-64', 'Puerto-Rico'], ['55-64', 'Poland'], ['25-34', 'Poland'], ['35-44', 'Greece'], ['25-34', 'France'], ['16-24', 'Portugal'], ['35-44', 'Portugal'], ['45-54', 'Columbia'], ['35-44', 'Columbia'], ['55-64', 'Jamaica'], ['25-34', 'Ecuador'], ['35-44', 'El-Salvador'], ['55-64', 'Cuba'], ['35-44', 'China'], ['55-64', 'Italy'], ['25-34', 'Japan'], ['55-64', 'El-Salvador'], ['55-64', 'Vietnam'], ['35-44', 'Peru'], ['16-24', 'Italy'], ['>64', 'Columbia'], ['16-24', 'Canada'], ['16-24', 'Germany'], ['45-54', 'Ecuador'], ['16-24', 'Haiti'], ['25-34', 'Portugal'], ['16-24', 'Poland'], ['35-44', 'Dominican-Republic'], ['35-44', 'Jamaica'], ['35-44', 'Guatemala'], ['45-54', 'Peru'], ['55-64', 'England'], ['16-24', 'Jamaica'], ['16-24', 'China'], ['>64', 'Puerto-Rico'], ['16-24', 'Puerto-Rico'], ['16-24', 'Greece'], ['25-34', 'Nicaragua'], ['25-34', 'Dominican-Republic'], ['55-64', 'Portugal'], ['55-64', 'Nicaragua'], ['45-54', 'Dominican-Republic'], ['25-34', 'Columbia'], ['16-24', 'Nicaragua'], ['25-34', 'Italy'], ['16-24', 'Philippines'], ['45-54', 'France'], ['16-24', 'Guatemala'], ['16-24', 'Ecuador'], ['16-24', 'Iran'], ['16-24', 'Cuba'], ['>64', 'Mexico'], ['45-54', 'Portugal'], ['>64', 'Italy'], ['16-24', 'Peru'], ['45-54', 'Poland'], ['55-64', 'Dominican-Republic'], ['45-54', 'Haiti'], ['>64', 'China'], ['55-64', 'Guatemala'], ['35-44', 'Ecuador'], ['16-24', 'Japan'], ['55-64', 'Haiti'], ['>64', 'South'], ['>64', 'Dominican-Republic'], ['16-24', 'England'], ['>64', 'Portugal'], ['>64', 'Philippines'], ['16-24', 'Columbia'], ['>64', 'Peru'], ['35-44', 'France'], ['16-24', 'France'], ['55-64', 'Taiwan'], ['45-54', 'Nicaragua'], ['55-64', 'Japan'], ['>64', 'Nicaragua'], ['>64', 'Guatemala'], ['55-64', 'Peru'], ['Amer-Indian-Eskimo', '25-34'], ['Amer-Indian-Eskimo', '16-24'], ['Amer-Indian-Eskimo', '<16'], ['Other', '<16'], ['Other', '16-24'], ['White', 'Taiwan'], ['Other', 'Puerto-Rico'], ['Asian-Pac-Islander', 'Iran'], ['White', 'Philippines'], ['White', 'Japan'], ['Black', 'Cuba'], ['Other', '?'], ['Black', 'Puerto-Rico'], ['Other', 'Nicaragua'], ['Other', 'India'], ['Asian-Pac-Islander', 'Canada'], ['Amer-Indian-Eskimo', 'South'], ['Black', 'England'], ['White', 'Ecuador'], ['Other', 'Columbia'], ['White', 'India'], ['Amer-Indian-Eskimo', 'Mexico'], ['Black', 'Germany'], ['Asian-Pac-Islander', 'England'], ['White', 'Jamaica'], ['Black', 'Japan'], ['Amer-Indian-Eskimo', 'Germany'], ['Black', 'Dominican-Republic'], ['Other', 'Dominican-Republic'], ['Other', 'Germany'], ['Other', 'Guatemala'], ['Asian-Pac-Islander', 'Poland'], ['Other', 'Jamaica'], ['Black', 'Mexico'], ['Other', 'Ecuador'], ['Black', 'Nicaragua'], ['White', 'China'], ['Asian-Pac-Islander', 'Germany'], ['Asian-Pac-Islander', 'Puerto-Rico'], ['Other', 'El-Salvador'], ['White', 'South'], ['White', 'Vietnam'], ['Other', 'Cuba'], ['Black', 'India'], ['Other', 'Taiwan'], ['Other', 'Canada'], ['Asian-Pac-Islander', 'Portugal'], ['Amer-Indian-Eskimo', 'Puerto-Rico'], ['Amer-Indian-Eskimo', 'Columbia'], ['Asian-Pac-Islander', 'Mexico'], ['Amer-Indian-Eskimo', 'Philippines'], ['Asian-Pac-Islander', 'Greece'], ['Asian-Pac-Islander', 'Haiti'], ['Black', 'El-Salvador'], ['Other', 'Peru'], ['Other', 'Iran'], ['Black', 'France'], ['Asian-Pac-Islander', 'Dominican-Republic'], ['Black', 'Philippines'], ['Other', 'Japan'], ['Male', 'Greece'], ['Male', 'Peru'], ['Male', 'Nicaragua'], ['Male', 'Haiti'], ['Female', 'Taiwan'], ['Female', 'Columbia'], ['Female', 'Guatemala'], ['Female', 'Japan'], ['Female', 'Iran'], ['Male', 'Ecuador'], ['Female', 'France'], ['Female', 'Portugal'], ['Male', 'Portugal'], ['Female', 'Nicaragua'], ['Male', 'France'], ['Female', 'Italy'], ['Female', 'Ecuador'], ['Female', 'Peru'], ['Female', 'India'], ['Female', 'Poland'], ['Female', 'China'], ['Female', 'Haiti'], ['Female', 'Vietnam'], ['Female', 'Greece'], ['>64', 'Taiwan'], ['>64', 'India'], ['45-54', 'Philippines'], ['45-54', 'Puerto-Rico'], ['45-54', 'Canada'], ['<16', 'Greece'], ['<16', '?'], ['<16', 'Mexico'], ['>64', 'Iran'], ['16-24', 'Mexico'], ['<16', 'Germany'], ['55-64', 'Mexico'], ['25-34', 'Canada'], ['>64', 'Japan'], ['<16', 'Philippines'], ['<16', 'El-Salvador'], ['16-24', '?'], ['25-34', 'Germany'], ['25-34', 'Guatemala'], ['25-34', 'El-Salvador'], ['<16', 'Nicaragua'], ['16-24', 'El-Salvador'], ['<16', 'South'], ['<16', 'Canada'], ['25-34', 'India'], ['<16', 'China'], ['<16', 'Vietnam'], ['25-34', 'Jamaica'], ['<16', 'India'], ['<16', 'Iran'], ['<16', 'Poland'], ['<16', 'Peru'], ['<16', 'Cuba'], ['<16', 'Puerto-Rico'], ['25-34', 'Philippines'], ['<16', 'England'], ['<16', 'Haiti'], ['<16', 'Taiwan'], ['55-64', 'Ecuador'], ['>64', 'France'], ['<16', 'Italy'], ['>64', 'Haiti'], ['<16', 'Japan'], ['<16', 'Jamaica'], ['<16', 'France'], ['<16', 'Columbia'], ['>64', 'Asian-Pac-Islander', 'Male'], ['35-44', 'Other', 'Female'], ['45-54', 'Other', 'Male'], ['45-54', 'Amer-Indian-Eskimo', 'Female'], ['55-64', 'Asian-Pac-Islander', 'Female'], ['>64', 'Asian-Pac-Islander', 'Female'], ['45-54', 'Other', 'Female'], ['>64', 'Asian-Pac-Islander', '35-44'], ['>64', 'Black', '25-34'], ['55-64', 'Asian-Pac-Islander', '25-34'], ['55-64', 'Asian-Pac-Islander', '55-64'], ['55-64', 'Black', '>64'], ['45-54', 'Black', '55-64'], ['16-24', 'Asian-Pac-Islander', '45-54'], ['>64', 'Black', '<16'], ['16-24', 'Black', '45-54'], ['35-44', 'Black', '>64'], ['25-34', 'Asian-Pac-Islander', '>64'], ['45-54', 'Asian-Pac-Islander', '25-34'], ['16-24', 'Black', '55-64'], ['35-44', 'Amer-Indian-Eskimo', '45-54'], ['35-44', 'Black', '<16'], ['45-54', 'Black', '>64'], ['25-34', 'Other', '45-54'], ['35-44', 'Other', '45-54'], ['55-64', 'Black', '25-34'], ['25-34', 'Asian-Pac-Islander', '25-34'], ['35-44', 'Asian-Pac-Islander', '16-24'], ['45-54', 'Amer-Indian-Eskimo', '45-54'], ['35-44', 'Black', '16-24'], ['45-54', 'Asian-Pac-Islander', '>64'], ['55-64', 'Black', '55-64'], ['16-24', 'Black', '>64'], ['16-24', 'Asian-Pac-Islander', '<16'], ['45-54', 'Other', '45-54'], ['25-34', 'Other', '25-34'], ['45-54', 'Black', '<16'], ['25-34', 'Black', '<16'], ['45-54', 'Asian-Pac-Islander', '<16'], ['>64', 'Asian-Pac-Islander', '<16'], ['>64', 'Black', '>64'], ['>64', 'Asian-Pac-Islander', '16-24'], ['35-44', 'Asian-Pac-Islander', '<16'], ['>64', 'Asian-Pac-Islander', '>64'], ['35-44', 'Other', 'Mexico'], ['45-54', 'Black', '?'], ['35-44', 'Other', 'United-States'], ['45-54', 'Asian-Pac-Islander', '?'], ['>64', 'Female', '55-64'], ['>64', 'Female', '45-54'], ['>64', 'Female', '>64'], ['55-64', 'Female', '?'], ['35-44', 'Female', 'Philippines'], ['45-54', 'Male', 'Germany'], ['35-44', 'Male', 'Puerto-Rico'], ['45-54', 'Female', '?'], ['35-44', 'Female', 'Puerto-Rico'], ['45-54', 'Female', 'Mexico'], ['45-54', 'Female', 'Germany'], ['35-44', '55-64', '?'], ['25-34', '25-34', 'Mexico'], ['55-64', '45-54', '?'], ['45-54', '45-54', 'Mexico'], ['55-64', '55-64', '?'], ['45-54', '45-54', '?'], ['25-34', '25-34', '?'], ['45-54', '45-54', 'Germany'], ['Asian-Pac-Islander', 'Female', '<16'], ['Asian-Pac-Islander', 'Male', '<16'], ['Asian-Pac-Islander', 'Female', '?'], ['White', 'Male', 'Dominican-Republic'], ['White', 'Female', 'Dominican-Republic'], ['Other', 'Female', 'Mexico'], ['Asian-Pac-Islander', '<16', 'United-States'], ['35-44', 'Asian-Pac-Islander', 'Female', '45-54'], ['45-54', 'Asian-Pac-Islander', 'Male', '45-54'], ['35-44', 'Black', 'Male', '25-34'], ['16-24', 'Black', 'Female', '<16'], ['35-44', 'Amer-Indian-Eskimo', 'Female', '35-44'], ['45-54', 'Black', 'Male', '25-34'], ['45-54', 'Black', 'Female', '25-34'], ['25-34', 'Black', 'Male', '25-34'], ['16-24', 'Asian-Pac-Islander', 'Male', '16-24'], ['45-54', 'Black', 'Female', '45-54'], ['16-24', 'Asian-Pac-Islander', 'Female', '16-24'], ['45-54', 'Asian-Pac-Islander', 'Female', '45-54'], ['35-44', 'Black', 'Male', '?'], ['35-44', 'White', 'Female', '?'], ['35-44', 'Black', 'Female', '?'], ['35-44', 'Asian-Pac-Islander', 'Female', 'United-States'], ['45-54', 'Asian-Pac-Islander', '35-44', 'United-States'], ['35-44', 'Black', '35-44', '?'], ['35-44', 'Asian-Pac-Islander', '35-44', '?'], ['35-44', 'White', '35-44', 'Puerto-Rico'], ['16-24', 'Asian-Pac-Islander', '16-24', 'United-States'], ['45-54', 'Asian-Pac-Islander', '45-54', 'United-States'], ['35-44', 'Female', '35-44', '?'], ['35-44', 'Female', '35-44', 'Mexico'], ['55-64', 'White', 'Female', '55-64', 'United-States'], ['25-34', 'Black', 'Female', '16-24', 'United-States'], ['35-44', 'Asian-Pac-Islander', 'Male', '35-44', 'Philippines']]</td>\n",
       "                        <td id=\"T_e69656cc_3c25_11eb_b354_acde48001122row0_col7\" class=\"data row0 col7\" >{'native.country', 'sex', 'age', 'race', 'hours.per.week'}</td>\n",
       "                        <td id=\"T_e69656cc_3c25_11eb_b354_acde48001122row0_col8\" class=\"data row0 col8\" ><a href=\"report/adult.csv.html\">adult.csv.html</a></td>\n",
       "            </tr>\n",
       "    </tbody></table>"
      ],
      "text/plain": [
       "<pandas.io.formats.style.Styler at 0x7ff7ec572b00>"
      ]
     },
     "execution_count": 15,
     "metadata": {},
     "output_type": "execute_result"
    }
   ],
   "source": [
    "a"
   ]
  },
  {
   "cell_type": "code",
   "execution_count": null,
   "metadata": {},
   "outputs": [],
   "source": []
  },
  {
   "cell_type": "code",
   "execution_count": null,
   "metadata": {},
   "outputs": [],
   "source": []
  },
  {
   "cell_type": "code",
   "execution_count": null,
   "metadata": {},
   "outputs": [],
   "source": []
  },
  {
   "cell_type": "code",
   "execution_count": null,
   "metadata": {},
   "outputs": [],
   "source": []
  },
  {
   "cell_type": "code",
   "execution_count": null,
   "metadata": {},
   "outputs": [],
   "source": []
  },
  {
   "cell_type": "code",
   "execution_count": 11,
   "metadata": {},
   "outputs": [],
   "source": [
    "import igraph\n",
    "from igraph import Graph, EdgeSeq"
   ]
  },
  {
   "cell_type": "code",
   "execution_count": null,
   "metadata": {},
   "outputs": [],
   "source": [
    "for i in range(1,len(uncover)+1):\n",
    "    att_comb = itertools.combinations(uncover, i)\n",
    "    for att in att_comb:\n",
    "        value = tmp[list(att)].drop_duplicates().values\n",
    "        if i == 1:\n",
    "            # Connect to root node\n",
    "            for val in value:\n",
    "                G.add_node(tuple(val))\n",
    "                G.add_edge('root',tuple(val))\n",
    "        else:\n",
    "            for val in value:\n",
    "                G.add_node(tuple(val))\n",
    "                for prev in list(G.nodes):\n",
    "                    if prev in val:\n",
    "                        G.add_edge(prev,tuple(val))"
   ]
  },
  {
   "cell_type": "code",
   "execution_count": 12,
   "metadata": {},
   "outputs": [],
   "source": [
    "from igraph import *"
   ]
  },
  {
   "cell_type": "code",
   "execution_count": 30,
   "metadata": {},
   "outputs": [
    {
     "data": {
      "text/plain": [
       "{'age', 'hours.per.week', 'native.country', 'race', 'sex'}"
      ]
     },
     "execution_count": 30,
     "metadata": {},
     "output_type": "execute_result"
    }
   ],
   "source": [
    "uncover"
   ]
  },
  {
   "cell_type": "code",
   "execution_count": 64,
   "metadata": {},
   "outputs": [],
   "source": [
    "num_node = 0\n",
    "node_map = dict()"
   ]
  },
  {
   "cell_type": "code",
   "execution_count": 32,
   "metadata": {},
   "outputs": [],
   "source": [
    "node_map['root'] = num_node\n",
    "num_node += 1"
   ]
  },
  {
   "cell_type": "markdown",
   "metadata": {},
   "source": [
    "import collections\n",
    "compare = lambda x, y: collections.Counter(x) == collections.Counter(y)"
   ]
  },
  {
   "cell_type": "code",
   "execution_count": 65,
   "metadata": {},
   "outputs": [],
   "source": [
    "g = Graph()"
   ]
  },
  {
   "cell_type": "markdown",
   "metadata": {},
   "source": [
    "plot(g, \"social_network.pdf\")"
   ]
  },
  {
   "cell_type": "markdown",
   "metadata": {},
   "source": [
    "layout = g.layout(\"kk\")\n",
    "plot(g, layout = layout)"
   ]
  },
  {
   "cell_type": "code",
   "execution_count": 82,
   "metadata": {},
   "outputs": [],
   "source": [
    "mup_frozen = []\n",
    "for i in mup:\n",
    "    mup_frozen.append(frozenset(i))"
   ]
  },
  {
   "cell_type": "code",
   "execution_count": 86,
   "metadata": {},
   "outputs": [
    {
     "name": "stdout",
     "output_type": "stream",
     "text": [
      "False\n",
      "False\n",
      "True\n",
      "False\n",
      "False\n"
     ]
    }
   ],
   "source": [
    "for i in range(1,len(uncover)+1):\n",
    "    att_comb = itertools.combinations(uncover, i)\n",
    "    for att in att_comb:\n",
    "        value = tmp[list(att)].drop_duplicates().values\n",
    "        if i == 1:\n",
    "            # Connect to root node\n",
    "            for val in value:\n",
    "                G.add_node(frozenset(val))\n",
    "                G.add_edge('root',frozenset(val))\n",
    "            print(frozenset(val) in mup_frozen)\n",
    "        '''\n",
    "        else:\n",
    "            for val in value:\n",
    "                G.add_node(tuple(val))\n",
    "                for prev in list(G.nodes):\n",
    "                    if prev in val:\n",
    "                        G.add_edge(prev,tuple(val))\n",
    "        '''"
   ]
  },
  {
   "cell_type": "code",
   "execution_count": null,
   "metadata": {},
   "outputs": [],
   "source": []
  },
  {
   "cell_type": "code",
   "execution_count": 13,
   "metadata": {},
   "outputs": [],
   "source": [
    "def hierarchy_pos(G, root, levels=None, width=1., height=1.):\n",
    "    '''If there is a cycle that is reachable from root, then this will see infinite recursion.\n",
    "       G: the graph\n",
    "       root: the root node\n",
    "       levels: a dictionary\n",
    "               key: level number (starting from 0)\n",
    "               value: number of nodes in this level\n",
    "       width: horizontal space allocated for drawing\n",
    "       height: vertical space allocated for drawing'''\n",
    "    TOTAL = \"total\"\n",
    "    CURRENT = \"current\"\n",
    "    def make_levels(levels, node=root, currentLevel=0, parent=None):\n",
    "        \"\"\"Compute the number of nodes for each level\n",
    "        \"\"\"\n",
    "        if not currentLevel in levels:\n",
    "            levels[currentLevel] = {TOTAL : 0, CURRENT : 0}\n",
    "        levels[currentLevel][TOTAL] += 1\n",
    "        neighbors = list(G.neighbors(node))\n",
    "        for neighbor in neighbors:\n",
    "            if not neighbor == parent:\n",
    "                levels =  make_levels(levels, neighbor, currentLevel + 1, node)\n",
    "        return levels\n",
    "\n",
    "    def make_pos(pos, node=root, currentLevel=0, parent=None, vert_loc=0):\n",
    "        dx = 1/levels[currentLevel][TOTAL]\n",
    "        left = dx/2\n",
    "        pos[node] = ((left + dx*levels[currentLevel][CURRENT])*width, vert_loc)\n",
    "        levels[currentLevel][CURRENT] += 1\n",
    "        neighbors = list(G.neighbors(node))\n",
    "        for neighbor in neighbors:\n",
    "            if not neighbor == parent:\n",
    "                pos = make_pos(pos, neighbor, currentLevel + 1, node, vert_loc-vert_gap)\n",
    "        return pos\n",
    "    if levels is None:\n",
    "        levels = make_levels({})\n",
    "    else:\n",
    "        levels = {l:{TOTAL: levels[l], CURRENT:0} for l in levels}\n",
    "    vert_gap = height / (max([l for l in levels])+1)\n",
    "    return make_pos({})"
   ]
  },
  {
   "cell_type": "code",
   "execution_count": 33,
   "metadata": {},
   "outputs": [],
   "source": [
    "G = nx.Graph()\n",
    "G.add_node('root')"
   ]
  },
  {
   "cell_type": "code",
   "execution_count": 19,
   "metadata": {},
   "outputs": [],
   "source": [
    "mup_frozen = dict()\n",
    "for i in mup:\n",
    "    mup_frozen[frozenset(i)] = list(i)\n",
    "    #mup_frozen.append(frozenset(i))"
   ]
  },
  {
   "cell_type": "code",
   "execution_count": 34,
   "metadata": {},
   "outputs": [],
   "source": [
    "for i in range(1,len(uncover)+1):\n",
    "    att_comb = itertools.combinations(uncover, i)\n",
    "    for att in att_comb:\n",
    "        value = tmp[list(att)].drop_duplicates().values\n",
    "        if i == 1:\n",
    "            # Connect to root node\n",
    "            for val in value:\n",
    "                G.add_node(frozenset(val))\n",
    "                G.add_edge('root',frozenset(val))\n",
    "                #G.add_node(mup_frozen[frozenset(val)])\n",
    "                #G.add_edge('root',mup_frozen[frozenset(val)])\n",
    "        else:\n",
    "            for val in value:\n",
    "                G.add_node(frozenset(val))\n",
    "                for prev in list(G.nodes):\n",
    "                    if prev in val:\n",
    "                        G.add_edge(prev,frozenset(val))"
   ]
  },
  {
   "cell_type": "code",
   "execution_count": 35,
   "metadata": {},
   "outputs": [
    {
     "ename": "NetworkXError",
     "evalue": "Node frozenset({'United-States', 'Female'}) has no position.",
     "output_type": "error",
     "traceback": [
      "\u001b[0;31m---------------------------------------------------------------------------\u001b[0m",
      "\u001b[0;31mKeyError\u001b[0m                                  Traceback (most recent call last)",
      "\u001b[0;32m~/opt/anaconda3/envs/cs576/lib/python3.6/site-packages/networkx/drawing/nx_pylab.py\u001b[0m in \u001b[0;36mdraw_networkx_nodes\u001b[0;34m(G, pos, nodelist, node_size, node_color, node_shape, alpha, cmap, vmin, vmax, ax, linewidths, edgecolors, label)\u001b[0m\n\u001b[1;32m    455\u001b[0m     \u001b[0;32mtry\u001b[0m\u001b[0;34m:\u001b[0m\u001b[0;34m\u001b[0m\u001b[0;34m\u001b[0m\u001b[0m\n\u001b[0;32m--> 456\u001b[0;31m         \u001b[0mxy\u001b[0m \u001b[0;34m=\u001b[0m \u001b[0mnp\u001b[0m\u001b[0;34m.\u001b[0m\u001b[0masarray\u001b[0m\u001b[0;34m(\u001b[0m\u001b[0;34m[\u001b[0m\u001b[0mpos\u001b[0m\u001b[0;34m[\u001b[0m\u001b[0mv\u001b[0m\u001b[0;34m]\u001b[0m \u001b[0;32mfor\u001b[0m \u001b[0mv\u001b[0m \u001b[0;32min\u001b[0m \u001b[0mnodelist\u001b[0m\u001b[0;34m]\u001b[0m\u001b[0;34m)\u001b[0m\u001b[0;34m\u001b[0m\u001b[0;34m\u001b[0m\u001b[0m\n\u001b[0m\u001b[1;32m    457\u001b[0m     \u001b[0;32mexcept\u001b[0m \u001b[0mKeyError\u001b[0m \u001b[0;32mas\u001b[0m \u001b[0me\u001b[0m\u001b[0;34m:\u001b[0m\u001b[0;34m\u001b[0m\u001b[0;34m\u001b[0m\u001b[0m\n",
      "\u001b[0;32m~/opt/anaconda3/envs/cs576/lib/python3.6/site-packages/networkx/drawing/nx_pylab.py\u001b[0m in \u001b[0;36m<listcomp>\u001b[0;34m(.0)\u001b[0m\n\u001b[1;32m    455\u001b[0m     \u001b[0;32mtry\u001b[0m\u001b[0;34m:\u001b[0m\u001b[0;34m\u001b[0m\u001b[0;34m\u001b[0m\u001b[0m\n\u001b[0;32m--> 456\u001b[0;31m         \u001b[0mxy\u001b[0m \u001b[0;34m=\u001b[0m \u001b[0mnp\u001b[0m\u001b[0;34m.\u001b[0m\u001b[0masarray\u001b[0m\u001b[0;34m(\u001b[0m\u001b[0;34m[\u001b[0m\u001b[0mpos\u001b[0m\u001b[0;34m[\u001b[0m\u001b[0mv\u001b[0m\u001b[0;34m]\u001b[0m \u001b[0;32mfor\u001b[0m \u001b[0mv\u001b[0m \u001b[0;32min\u001b[0m \u001b[0mnodelist\u001b[0m\u001b[0;34m]\u001b[0m\u001b[0;34m)\u001b[0m\u001b[0;34m\u001b[0m\u001b[0;34m\u001b[0m\u001b[0m\n\u001b[0m\u001b[1;32m    457\u001b[0m     \u001b[0;32mexcept\u001b[0m \u001b[0mKeyError\u001b[0m \u001b[0;32mas\u001b[0m \u001b[0me\u001b[0m\u001b[0;34m:\u001b[0m\u001b[0;34m\u001b[0m\u001b[0;34m\u001b[0m\u001b[0m\n",
      "\u001b[0;31mKeyError\u001b[0m: frozenset({'United-States', 'Female'})",
      "\nThe above exception was the direct cause of the following exception:\n",
      "\u001b[0;31mNetworkXError\u001b[0m                             Traceback (most recent call last)",
      "\u001b[0;32m<ipython-input-35-66588c9b2935>\u001b[0m in \u001b[0;36m<module>\u001b[0;34m\u001b[0m\n\u001b[1;32m      5\u001b[0m                   \u001b[0;31m#(5,11), (5,12), (6,13)])\u001b[0m\u001b[0;34m\u001b[0m\u001b[0;34m\u001b[0m\u001b[0;34m\u001b[0m\u001b[0m\n\u001b[1;32m      6\u001b[0m \u001b[0mpos\u001b[0m \u001b[0;34m=\u001b[0m \u001b[0mhierarchy_pos\u001b[0m\u001b[0;34m(\u001b[0m\u001b[0mG\u001b[0m\u001b[0;34m,\u001b[0m\u001b[0;34m'root'\u001b[0m\u001b[0;34m)\u001b[0m\u001b[0;34m\u001b[0m\u001b[0;34m\u001b[0m\u001b[0m\n\u001b[0;32m----> 7\u001b[0;31m \u001b[0mnx\u001b[0m\u001b[0;34m.\u001b[0m\u001b[0mdraw\u001b[0m\u001b[0;34m(\u001b[0m\u001b[0mG\u001b[0m\u001b[0;34m,\u001b[0m \u001b[0mpos\u001b[0m\u001b[0;34m=\u001b[0m\u001b[0mpos\u001b[0m\u001b[0;34m,\u001b[0m \u001b[0mwith_labels\u001b[0m\u001b[0;34m=\u001b[0m\u001b[0;32mFalse\u001b[0m\u001b[0;34m,\u001b[0m\u001b[0mnode_size\u001b[0m\u001b[0;34m=\u001b[0m\u001b[0;36m1\u001b[0m\u001b[0;34m)\u001b[0m\u001b[0;34m\u001b[0m\u001b[0;34m\u001b[0m\u001b[0m\n\u001b[0m\u001b[1;32m      8\u001b[0m \u001b[0mplt\u001b[0m\u001b[0;34m.\u001b[0m\u001b[0msavefig\u001b[0m\u001b[0;34m(\u001b[0m\u001b[0;34m'hierarchy.png'\u001b[0m\u001b[0;34m)\u001b[0m\u001b[0;34m\u001b[0m\u001b[0;34m\u001b[0m\u001b[0m\n",
      "\u001b[0;32m~/opt/anaconda3/envs/cs576/lib/python3.6/site-packages/networkx/drawing/nx_pylab.py\u001b[0m in \u001b[0;36mdraw\u001b[0;34m(G, pos, ax, **kwds)\u001b[0m\n\u001b[1;32m    121\u001b[0m         \u001b[0mkwds\u001b[0m\u001b[0;34m[\u001b[0m\u001b[0;34m\"with_labels\"\u001b[0m\u001b[0;34m]\u001b[0m \u001b[0;34m=\u001b[0m \u001b[0;34m\"labels\"\u001b[0m \u001b[0;32min\u001b[0m \u001b[0mkwds\u001b[0m\u001b[0;34m\u001b[0m\u001b[0;34m\u001b[0m\u001b[0m\n\u001b[1;32m    122\u001b[0m \u001b[0;34m\u001b[0m\u001b[0m\n\u001b[0;32m--> 123\u001b[0;31m     \u001b[0mdraw_networkx\u001b[0m\u001b[0;34m(\u001b[0m\u001b[0mG\u001b[0m\u001b[0;34m,\u001b[0m \u001b[0mpos\u001b[0m\u001b[0;34m=\u001b[0m\u001b[0mpos\u001b[0m\u001b[0;34m,\u001b[0m \u001b[0max\u001b[0m\u001b[0;34m=\u001b[0m\u001b[0max\u001b[0m\u001b[0;34m,\u001b[0m \u001b[0;34m**\u001b[0m\u001b[0mkwds\u001b[0m\u001b[0;34m)\u001b[0m\u001b[0;34m\u001b[0m\u001b[0;34m\u001b[0m\u001b[0m\n\u001b[0m\u001b[1;32m    124\u001b[0m     \u001b[0max\u001b[0m\u001b[0;34m.\u001b[0m\u001b[0mset_axis_off\u001b[0m\u001b[0;34m(\u001b[0m\u001b[0;34m)\u001b[0m\u001b[0;34m\u001b[0m\u001b[0;34m\u001b[0m\u001b[0m\n\u001b[1;32m    125\u001b[0m     \u001b[0mplt\u001b[0m\u001b[0;34m.\u001b[0m\u001b[0mdraw_if_interactive\u001b[0m\u001b[0;34m(\u001b[0m\u001b[0;34m)\u001b[0m\u001b[0;34m\u001b[0m\u001b[0;34m\u001b[0m\u001b[0m\n",
      "\u001b[0;32m~/opt/anaconda3/envs/cs576/lib/python3.6/site-packages/networkx/drawing/nx_pylab.py\u001b[0m in \u001b[0;36mdraw_networkx\u001b[0;34m(G, pos, arrows, with_labels, **kwds)\u001b[0m\n\u001b[1;32m    333\u001b[0m         \u001b[0mpos\u001b[0m \u001b[0;34m=\u001b[0m \u001b[0mnx\u001b[0m\u001b[0;34m.\u001b[0m\u001b[0mdrawing\u001b[0m\u001b[0;34m.\u001b[0m\u001b[0mspring_layout\u001b[0m\u001b[0;34m(\u001b[0m\u001b[0mG\u001b[0m\u001b[0;34m)\u001b[0m  \u001b[0;31m# default to spring layout\u001b[0m\u001b[0;34m\u001b[0m\u001b[0;34m\u001b[0m\u001b[0m\n\u001b[1;32m    334\u001b[0m \u001b[0;34m\u001b[0m\u001b[0m\n\u001b[0;32m--> 335\u001b[0;31m     \u001b[0mdraw_networkx_nodes\u001b[0m\u001b[0;34m(\u001b[0m\u001b[0mG\u001b[0m\u001b[0;34m,\u001b[0m \u001b[0mpos\u001b[0m\u001b[0;34m,\u001b[0m \u001b[0;34m**\u001b[0m\u001b[0mnode_kwds\u001b[0m\u001b[0;34m)\u001b[0m\u001b[0;34m\u001b[0m\u001b[0;34m\u001b[0m\u001b[0m\n\u001b[0m\u001b[1;32m    336\u001b[0m     \u001b[0mdraw_networkx_edges\u001b[0m\u001b[0;34m(\u001b[0m\u001b[0mG\u001b[0m\u001b[0;34m,\u001b[0m \u001b[0mpos\u001b[0m\u001b[0;34m,\u001b[0m \u001b[0marrows\u001b[0m\u001b[0;34m=\u001b[0m\u001b[0marrows\u001b[0m\u001b[0;34m,\u001b[0m \u001b[0;34m**\u001b[0m\u001b[0medge_kwds\u001b[0m\u001b[0;34m)\u001b[0m\u001b[0;34m\u001b[0m\u001b[0;34m\u001b[0m\u001b[0m\n\u001b[1;32m    337\u001b[0m     \u001b[0;32mif\u001b[0m \u001b[0mwith_labels\u001b[0m\u001b[0;34m:\u001b[0m\u001b[0;34m\u001b[0m\u001b[0;34m\u001b[0m\u001b[0m\n",
      "\u001b[0;32m~/opt/anaconda3/envs/cs576/lib/python3.6/site-packages/networkx/drawing/nx_pylab.py\u001b[0m in \u001b[0;36mdraw_networkx_nodes\u001b[0;34m(G, pos, nodelist, node_size, node_color, node_shape, alpha, cmap, vmin, vmax, ax, linewidths, edgecolors, label)\u001b[0m\n\u001b[1;32m    456\u001b[0m         \u001b[0mxy\u001b[0m \u001b[0;34m=\u001b[0m \u001b[0mnp\u001b[0m\u001b[0;34m.\u001b[0m\u001b[0masarray\u001b[0m\u001b[0;34m(\u001b[0m\u001b[0;34m[\u001b[0m\u001b[0mpos\u001b[0m\u001b[0;34m[\u001b[0m\u001b[0mv\u001b[0m\u001b[0;34m]\u001b[0m \u001b[0;32mfor\u001b[0m \u001b[0mv\u001b[0m \u001b[0;32min\u001b[0m \u001b[0mnodelist\u001b[0m\u001b[0;34m]\u001b[0m\u001b[0;34m)\u001b[0m\u001b[0;34m\u001b[0m\u001b[0;34m\u001b[0m\u001b[0m\n\u001b[1;32m    457\u001b[0m     \u001b[0;32mexcept\u001b[0m \u001b[0mKeyError\u001b[0m \u001b[0;32mas\u001b[0m \u001b[0me\u001b[0m\u001b[0;34m:\u001b[0m\u001b[0;34m\u001b[0m\u001b[0;34m\u001b[0m\u001b[0m\n\u001b[0;32m--> 458\u001b[0;31m         \u001b[0;32mraise\u001b[0m \u001b[0mnx\u001b[0m\u001b[0;34m.\u001b[0m\u001b[0mNetworkXError\u001b[0m\u001b[0;34m(\u001b[0m\u001b[0;34mf\"Node {e} has no position.\"\u001b[0m\u001b[0;34m)\u001b[0m \u001b[0;32mfrom\u001b[0m \u001b[0me\u001b[0m\u001b[0;34m\u001b[0m\u001b[0;34m\u001b[0m\u001b[0m\n\u001b[0m\u001b[1;32m    459\u001b[0m     \u001b[0;32mexcept\u001b[0m \u001b[0mValueError\u001b[0m \u001b[0;32mas\u001b[0m \u001b[0me\u001b[0m\u001b[0;34m:\u001b[0m\u001b[0;34m\u001b[0m\u001b[0;34m\u001b[0m\u001b[0m\n\u001b[1;32m    460\u001b[0m         \u001b[0;32mraise\u001b[0m \u001b[0mnx\u001b[0m\u001b[0;34m.\u001b[0m\u001b[0mNetworkXError\u001b[0m\u001b[0;34m(\u001b[0m\u001b[0;34m\"Bad value in node positions.\"\u001b[0m\u001b[0;34m)\u001b[0m \u001b[0;32mfrom\u001b[0m \u001b[0me\u001b[0m\u001b[0;34m\u001b[0m\u001b[0;34m\u001b[0m\u001b[0m\n",
      "\u001b[0;31mNetworkXError\u001b[0m: Node frozenset({'United-States', 'Female'}) has no position."
     ]
    },
    {
     "data": {
      "image/png": "[encoded data removed]",
      "text/plain": [
       "<Figure size 432x288 with 1 Axes>"
      ]
     },
     "metadata": {},
     "output_type": "display_data"
    }
   ],
   "source": [
    "import matplotlib.pyplot as plt\n",
    "import networkx as nx\n",
    "#G=nx.Graph()\n",
    "G#.add_edges_from([(1,2), (1,3), (1,4), (2,5), (2,6), (2,7), (3,8), (3,9), (4,10),\n",
    "                  #(5,11), (5,12), (6,13)])\n",
    "pos = hierarchy_pos(G,'root')    \n",
    "nx.draw(G, pos=pos, with_labels=False,node_size=1)\n",
    "plt.savefig('hierarchy.png')"
   ]
  },
  {
   "cell_type": "code",
   "execution_count": null,
   "metadata": {},
   "outputs": [],
   "source": []
  }
 ],
 "metadata": {
  "kernelspec": {
   "display_name": "Python 3",
   "language": "python",
   "name": "python3"
  },
  "language_info": {
   "codemirror_mode": {
    "name": "ipython",
    "version": 3
   },
   "file_extension": ".py",
   "mimetype": "text/x-python",
   "name": "python",
   "nbconvert_exporter": "python",
   "pygments_lexer": "ipython3",
   "version": "3.6.12"
  }
 },
 "nbformat": 4,
 "nbformat_minor": 4
}
