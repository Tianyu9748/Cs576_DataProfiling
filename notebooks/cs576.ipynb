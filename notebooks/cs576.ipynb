{
 "cells": [
  {
   "cell_type": "code",
   "execution_count": 24,
   "metadata": {},
   "outputs": [],
   "source": [
    "import numbers\n",
    "#'pip install git+git://github.com/clintval/gender_predictor.git'\n",
    "from gender_predictor import GenderPredictor\n",
    "import itertools"
   ]
  },
  {
   "cell_type": "code",
   "execution_count": 25,
   "metadata": {},
   "outputs": [],
   "source": [
    "from sherlock import helpers\n",
    "from sherlock.features.preprocessing import extract_features, convert_string_lists_to_lists, prepare_feature_extraction\n",
    "from sherlock.deploy.train_sherlock import train_sherlock\n",
    "from sherlock.deploy.predict_sherlock import predict_sherlock"
   ]
  },
  {
   "cell_type": "markdown",
   "metadata": {},
   "source": [
    "# Download data\n",
    "This will download the raw values and preprocessed files, the corresponding labels as well as a few other supporting files:\n",
    "- `download_data()`awill download 3.6GB of data into the `data/` directory.\n",
    "- `prepare_feature_extraction()` will download +/- 800 MB of data into the `features/` directory."
   ]
  },
  {
   "cell_type": "code",
   "execution_count": 26,
   "metadata": {},
   "outputs": [
    {
     "name": "stdout",
     "output_type": "stream",
     "text": [
      "Downloading the raw and preprocessed data into ../data/data.zip.\n",
      "Data was downloaded.\n",
      "Preparing feature extraction by downloading 2 files:\n",
      "        \n",
      " ../sherlock/features/glove.6B.50d.txt and \n",
      " ../sherlock/features/par_vec_trained_400.pkl.docvecs.vectors_docs.npy.\n",
      "        \n",
      "All files for extracting word and paragraph embeddings are present.\n"
     ]
    }
   ],
   "source": [
    "helpers.download_data()\n",
    "prepare_feature_extraction()"
   ]
  },
  {
   "cell_type": "markdown",
   "metadata": {},
   "source": [
    "# Read input dataset"
   ]
  },
  {
   "cell_type": "code",
   "execution_count": 31,
   "metadata": {},
   "outputs": [],
   "source": [
    "tmp_samples = pd.read_csv('adult.csv')"
   ]
  },
  {
   "cell_type": "code",
   "execution_count": 23,
   "metadata": {},
   "outputs": [
    {
     "ename": "ImportError",
     "evalue": "cannot import name 'is_url'",
     "output_type": "error",
     "traceback": [
      "\u001b[0;31m---------------------------------------------------------------------------\u001b[0m",
      "\u001b[0;31mImportError\u001b[0m                               Traceback (most recent call last)",
      "\u001b[0;32m~/opt/anaconda3/envs/cs576/lib/python3.6/site-packages/IPython/core/formatters.py\u001b[0m in \u001b[0;36m__call__\u001b[0;34m(self, obj)\u001b[0m\n\u001b[1;32m    343\u001b[0m             \u001b[0mmethod\u001b[0m \u001b[0;34m=\u001b[0m \u001b[0mget_real_method\u001b[0m\u001b[0;34m(\u001b[0m\u001b[0mobj\u001b[0m\u001b[0;34m,\u001b[0m \u001b[0mself\u001b[0m\u001b[0;34m.\u001b[0m\u001b[0mprint_method\u001b[0m\u001b[0;34m)\u001b[0m\u001b[0;34m\u001b[0m\u001b[0;34m\u001b[0m\u001b[0m\n\u001b[1;32m    344\u001b[0m             \u001b[0;32mif\u001b[0m \u001b[0mmethod\u001b[0m \u001b[0;32mis\u001b[0m \u001b[0;32mnot\u001b[0m \u001b[0;32mNone\u001b[0m\u001b[0;34m:\u001b[0m\u001b[0;34m\u001b[0m\u001b[0;34m\u001b[0m\u001b[0m\n\u001b[0;32m--> 345\u001b[0;31m                 \u001b[0;32mreturn\u001b[0m \u001b[0mmethod\u001b[0m\u001b[0;34m(\u001b[0m\u001b[0;34m)\u001b[0m\u001b[0;34m\u001b[0m\u001b[0;34m\u001b[0m\u001b[0m\n\u001b[0m\u001b[1;32m    346\u001b[0m             \u001b[0;32mreturn\u001b[0m \u001b[0;32mNone\u001b[0m\u001b[0;34m\u001b[0m\u001b[0;34m\u001b[0m\u001b[0m\n\u001b[1;32m    347\u001b[0m         \u001b[0;32melse\u001b[0m\u001b[0;34m:\u001b[0m\u001b[0;34m\u001b[0m\u001b[0;34m\u001b[0m\u001b[0m\n",
      "\u001b[0;32m~/opt/anaconda3/envs/cs576/lib/python3.6/site-packages/pandas/core/frame.py\u001b[0m in \u001b[0;36m_repr_html_\u001b[0;34m(self)\u001b[0m\n\u001b[1;32m    672\u001b[0m         \u001b[0musers\u001b[0m \u001b[0mexpect\u001b[0m\u001b[0;34m.\u001b[0m \u001b[0mdisplay\u001b[0m\u001b[0;34m.\u001b[0m\u001b[0mmax_columns\u001b[0m \u001b[0mremains\u001b[0m \u001b[0;32min\u001b[0m \u001b[0meffect\u001b[0m\u001b[0;34m.\u001b[0m\u001b[0;34m\u001b[0m\u001b[0;34m\u001b[0m\u001b[0m\n\u001b[1;32m    673\u001b[0m         \u001b[0mGH3541\u001b[0m\u001b[0;34m,\u001b[0m \u001b[0mGH3573\u001b[0m\u001b[0;34m\u001b[0m\u001b[0;34m\u001b[0m\u001b[0m\n\u001b[0;32m--> 674\u001b[0;31m         \"\"\"\n\u001b[0m\u001b[1;32m    675\u001b[0m         \u001b[0mwidth\u001b[0m\u001b[0;34m,\u001b[0m \u001b[0mheight\u001b[0m \u001b[0;34m=\u001b[0m \u001b[0mconsole\u001b[0m\u001b[0;34m.\u001b[0m\u001b[0mget_console_size\u001b[0m\u001b[0;34m(\u001b[0m\u001b[0;34m)\u001b[0m\u001b[0;34m\u001b[0m\u001b[0;34m\u001b[0m\u001b[0m\n\u001b[1;32m    676\u001b[0m         \u001b[0mmax_columns\u001b[0m \u001b[0;34m=\u001b[0m \u001b[0mget_option\u001b[0m\u001b[0;34m(\u001b[0m\u001b[0;34m\"display.max_columns\"\u001b[0m\u001b[0;34m)\u001b[0m\u001b[0;34m\u001b[0m\u001b[0;34m\u001b[0m\u001b[0m\n",
      "\u001b[0;32m~/opt/anaconda3/envs/cs576/lib/python3.6/site-packages/pandas/core/frame.py\u001b[0m in \u001b[0;36mto_html\u001b[0;34m(self, buf, columns, col_space, header, index, na_rep, formatters, float_format, sparsify, index_names, justify, max_rows, max_cols, show_dimensions, decimal, bold_rows, classes, escape, notebook, border, table_id, render_links)\u001b[0m\n\u001b[1;32m   2263\u001b[0m         \u001b[0;32mif\u001b[0m \u001b[0mbuf\u001b[0m \u001b[0;32mis\u001b[0m \u001b[0;32mNone\u001b[0m\u001b[0;34m:\u001b[0m\u001b[0;34m\u001b[0m\u001b[0;34m\u001b[0m\u001b[0m\n\u001b[1;32m   2264\u001b[0m             \u001b[0;32mreturn\u001b[0m \u001b[0mresult\u001b[0m\u001b[0;34m\u001b[0m\u001b[0;34m\u001b[0m\u001b[0m\n\u001b[0;32m-> 2265\u001b[0;31m         \u001b[0mbuf\u001b[0m\u001b[0;34m,\u001b[0m \u001b[0m_\u001b[0m\u001b[0;34m,\u001b[0m \u001b[0m_\u001b[0m\u001b[0;34m,\u001b[0m \u001b[0m_\u001b[0m \u001b[0;34m=\u001b[0m \u001b[0mget_filepath_or_buffer\u001b[0m\u001b[0;34m(\u001b[0m\u001b[0mbuf\u001b[0m\u001b[0;34m,\u001b[0m \u001b[0mmode\u001b[0m\u001b[0;34m=\u001b[0m\u001b[0mmode\u001b[0m\u001b[0;34m)\u001b[0m\u001b[0;34m\u001b[0m\u001b[0;34m\u001b[0m\u001b[0m\n\u001b[0m\u001b[1;32m   2266\u001b[0m         \u001b[0;32massert\u001b[0m \u001b[0mbuf\u001b[0m \u001b[0;32mis\u001b[0m \u001b[0;32mnot\u001b[0m \u001b[0;32mNone\u001b[0m  \u001b[0;31m# Help mypy.\u001b[0m\u001b[0;34m\u001b[0m\u001b[0;34m\u001b[0m\u001b[0m\n\u001b[1;32m   2267\u001b[0m         \u001b[0mbuf\u001b[0m\u001b[0;34m.\u001b[0m\u001b[0mwritelines\u001b[0m\u001b[0;34m(\u001b[0m\u001b[0mresult\u001b[0m\u001b[0;34m)\u001b[0m\u001b[0;34m\u001b[0m\u001b[0;34m\u001b[0m\u001b[0m\n",
      "\u001b[0;32m~/opt/anaconda3/envs/cs576/lib/python3.6/site-packages/pandas/io/formats/format.py\u001b[0m in \u001b[0;36mto_html\u001b[0;34m(self, classes, notebook, border)\u001b[0m\n\u001b[1;32m    725\u001b[0m \u001b[0;34m\u001b[0m\u001b[0m\n\u001b[1;32m    726\u001b[0m     \u001b[0;32mdef\u001b[0m \u001b[0m_to_str_columns\u001b[0m\u001b[0;34m(\u001b[0m\u001b[0mself\u001b[0m\u001b[0;34m)\u001b[0m \u001b[0;34m->\u001b[0m \u001b[0mList\u001b[0m\u001b[0;34m[\u001b[0m\u001b[0mList\u001b[0m\u001b[0;34m[\u001b[0m\u001b[0mstr\u001b[0m\u001b[0;34m]\u001b[0m\u001b[0;34m]\u001b[0m\u001b[0;34m:\u001b[0m\u001b[0;34m\u001b[0m\u001b[0;34m\u001b[0m\u001b[0m\n\u001b[0;32m--> 727\u001b[0;31m         \"\"\"\n\u001b[0m\u001b[1;32m    728\u001b[0m         \u001b[0mRender\u001b[0m \u001b[0ma\u001b[0m \u001b[0mDataFrame\u001b[0m \u001b[0mto\u001b[0m \u001b[0ma\u001b[0m \u001b[0mlist\u001b[0m \u001b[0mof\u001b[0m \u001b[0mcolumns\u001b[0m \u001b[0;34m(\u001b[0m\u001b[0;32mas\u001b[0m \u001b[0mlists\u001b[0m \u001b[0mof\u001b[0m \u001b[0mstrings\u001b[0m\u001b[0;34m)\u001b[0m\u001b[0;34m.\u001b[0m\u001b[0;34m\u001b[0m\u001b[0;34m\u001b[0m\u001b[0m\n\u001b[1;32m    729\u001b[0m         \"\"\"\n",
      "\u001b[0;32m~/opt/anaconda3/envs/cs576/lib/python3.6/site-packages/pandas/io/formats/html.py\u001b[0m in \u001b[0;36m<module>\u001b[0;34m\u001b[0m\n\u001b[1;32m     12\u001b[0m \u001b[0;32mfrom\u001b[0m \u001b[0mpandas\u001b[0m \u001b[0;32mimport\u001b[0m \u001b[0mMultiIndex\u001b[0m\u001b[0;34m,\u001b[0m \u001b[0moption_context\u001b[0m\u001b[0;34m\u001b[0m\u001b[0;34m\u001b[0m\u001b[0m\n\u001b[1;32m     13\u001b[0m \u001b[0;34m\u001b[0m\u001b[0m\n\u001b[0;32m---> 14\u001b[0;31m \u001b[0;32mfrom\u001b[0m \u001b[0mpandas\u001b[0m\u001b[0;34m.\u001b[0m\u001b[0mio\u001b[0m\u001b[0;34m.\u001b[0m\u001b[0mcommon\u001b[0m \u001b[0;32mimport\u001b[0m \u001b[0mis_url\u001b[0m\u001b[0;34m\u001b[0m\u001b[0;34m\u001b[0m\u001b[0m\n\u001b[0m\u001b[1;32m     15\u001b[0m from pandas.io.formats.format import (\n\u001b[1;32m     16\u001b[0m     \u001b[0mDataFrameFormatter\u001b[0m\u001b[0;34m,\u001b[0m\u001b[0;34m\u001b[0m\u001b[0;34m\u001b[0m\u001b[0m\n",
      "\u001b[0;31mImportError\u001b[0m: cannot import name 'is_url'"
     ]
    },
    {
     "data": {
      "text/plain": [
       "       age         workclass  fnlwgt     education  education.num  \\\n",
       "0       90                 ?   77053       HS-grad              9   \n",
       "1       82           Private  132870       HS-grad              9   \n",
       "2       66                 ?  186061  Some-college             10   \n",
       "3       54           Private  140359       7th-8th              4   \n",
       "4       41           Private  264663  Some-college             10   \n",
       "5       34           Private  216864       HS-grad              9   \n",
       "6       38           Private  150601          10th              6   \n",
       "7       74         State-gov   88638     Doctorate             16   \n",
       "8       68       Federal-gov  422013       HS-grad              9   \n",
       "9       41           Private   70037  Some-college             10   \n",
       "10      45           Private  172274     Doctorate             16   \n",
       "11      38  Self-emp-not-inc  164526   Prof-school             15   \n",
       "12      52           Private  129177     Bachelors             13   \n",
       "13      32           Private  136204       Masters             14   \n",
       "14      51                 ?  172175     Doctorate             16   \n",
       "15      46           Private   45363   Prof-school             15   \n",
       "16      45           Private  172822          11th              7   \n",
       "17      57           Private  317847       Masters             14   \n",
       "18      22           Private  119592    Assoc-acdm             12   \n",
       "19      34           Private  203034     Bachelors             13   \n",
       "20      37           Private  188774     Bachelors             13   \n",
       "21      29           Private   77009          11th              7   \n",
       "22      61           Private   29059       HS-grad              9   \n",
       "23      51           Private  153870  Some-college             10   \n",
       "24      61                 ?  135285       HS-grad              9   \n",
       "25      21           Private   34310     Assoc-voc             11   \n",
       "26      33           Private  228696       1st-4th              2   \n",
       "27      49           Private  122066       5th-6th              3   \n",
       "28      37      Self-emp-inc  107164          10th              6   \n",
       "29      38           Private  175360          10th              6   \n",
       "...    ...               ...     ...           ...            ...   \n",
       "32531   31           Private  292592       HS-grad              9   \n",
       "32532   29           Private  125976       HS-grad              9   \n",
       "32533   35                 ?  320084     Bachelors             13   \n",
       "32534   30                 ?   33811     Bachelors             13   \n",
       "32535   34           Private  204461     Doctorate             16   \n",
       "32536   54           Private  337992     Bachelors             13   \n",
       "32537   37           Private  179137  Some-college             10   \n",
       "32538   22           Private  325033          12th              8   \n",
       "32539   34           Private  160216     Bachelors             13   \n",
       "32540   30           Private  345898       HS-grad              9   \n",
       "32541   71                 ?  287372     Doctorate             16   \n",
       "32542   45         State-gov  252208       HS-grad              9   \n",
       "32543   41                 ?  202822       HS-grad              9   \n",
       "32544   72                 ?  129912       HS-grad              9   \n",
       "32545   45         Local-gov  119199    Assoc-acdm             12   \n",
       "32546   31           Private  199655       Masters             14   \n",
       "32547   39         Local-gov  111499    Assoc-acdm             12   \n",
       "32548   37           Private  198216    Assoc-acdm             12   \n",
       "32549   43           Private  260761       HS-grad              9   \n",
       "32550   43         State-gov  255835  Some-college             10   \n",
       "32551   43  Self-emp-not-inc   27242  Some-college             10   \n",
       "32552   32           Private   34066          10th              6   \n",
       "32553   43           Private   84661     Assoc-voc             11   \n",
       "32554   32           Private  116138       Masters             14   \n",
       "32555   53           Private  321865       Masters             14   \n",
       "32556   22           Private  310152  Some-college             10   \n",
       "32557   27           Private  257302    Assoc-acdm             12   \n",
       "32558   40           Private  154374       HS-grad              9   \n",
       "32559   58           Private  151910       HS-grad              9   \n",
       "32560   22           Private  201490       HS-grad              9   \n",
       "\n",
       "           marital.status         occupation    relationship  \\\n",
       "0                 Widowed                  ?   Not-in-family   \n",
       "1                 Widowed    Exec-managerial   Not-in-family   \n",
       "2                 Widowed                  ?       Unmarried   \n",
       "3                Divorced  Machine-op-inspct       Unmarried   \n",
       "4               Separated     Prof-specialty       Own-child   \n",
       "5                Divorced      Other-service       Unmarried   \n",
       "6               Separated       Adm-clerical       Unmarried   \n",
       "7           Never-married     Prof-specialty  Other-relative   \n",
       "8                Divorced     Prof-specialty   Not-in-family   \n",
       "9           Never-married       Craft-repair       Unmarried   \n",
       "10               Divorced     Prof-specialty       Unmarried   \n",
       "11          Never-married     Prof-specialty   Not-in-family   \n",
       "12                Widowed      Other-service   Not-in-family   \n",
       "13              Separated    Exec-managerial   Not-in-family   \n",
       "14          Never-married                  ?   Not-in-family   \n",
       "15               Divorced     Prof-specialty   Not-in-family   \n",
       "16               Divorced   Transport-moving   Not-in-family   \n",
       "17               Divorced    Exec-managerial   Not-in-family   \n",
       "18          Never-married  Handlers-cleaners   Not-in-family   \n",
       "19              Separated              Sales   Not-in-family   \n",
       "20          Never-married    Exec-managerial   Not-in-family   \n",
       "21              Separated              Sales   Not-in-family   \n",
       "22               Divorced              Sales       Unmarried   \n",
       "23     Married-civ-spouse   Transport-moving         Husband   \n",
       "24     Married-civ-spouse                  ?         Husband   \n",
       "25     Married-civ-spouse       Craft-repair         Husband   \n",
       "26     Married-civ-spouse       Craft-repair   Not-in-family   \n",
       "27     Married-civ-spouse      Other-service         Husband   \n",
       "28          Never-married   Transport-moving   Not-in-family   \n",
       "29          Never-married     Prof-specialty   Not-in-family   \n",
       "...                   ...                ...             ...   \n",
       "32531  Married-civ-spouse  Machine-op-inspct            Wife   \n",
       "32532           Separated              Sales       Unmarried   \n",
       "32533  Married-civ-spouse                  ?            Wife   \n",
       "32534       Never-married                  ?   Not-in-family   \n",
       "32535  Married-civ-spouse     Prof-specialty         Husband   \n",
       "32536  Married-civ-spouse    Exec-managerial         Husband   \n",
       "32537            Divorced       Adm-clerical       Unmarried   \n",
       "32538       Never-married    Protective-serv       Own-child   \n",
       "32539       Never-married    Exec-managerial   Not-in-family   \n",
       "32540       Never-married       Craft-repair   Not-in-family   \n",
       "32541  Married-civ-spouse                  ?         Husband   \n",
       "32542           Separated       Adm-clerical       Own-child   \n",
       "32543           Separated                  ?   Not-in-family   \n",
       "32544  Married-civ-spouse                  ?         Husband   \n",
       "32545            Divorced     Prof-specialty       Unmarried   \n",
       "32546            Divorced      Other-service   Not-in-family   \n",
       "32547  Married-civ-spouse       Adm-clerical            Wife   \n",
       "32548            Divorced       Tech-support   Not-in-family   \n",
       "32549  Married-civ-spouse  Machine-op-inspct         Husband   \n",
       "32550            Divorced       Adm-clerical  Other-relative   \n",
       "32551  Married-civ-spouse       Craft-repair         Husband   \n",
       "32552  Married-civ-spouse  Handlers-cleaners         Husband   \n",
       "32553  Married-civ-spouse              Sales         Husband   \n",
       "32554       Never-married       Tech-support   Not-in-family   \n",
       "32555  Married-civ-spouse    Exec-managerial         Husband   \n",
       "32556       Never-married    Protective-serv   Not-in-family   \n",
       "32557  Married-civ-spouse       Tech-support            Wife   \n",
       "32558  Married-civ-spouse  Machine-op-inspct         Husband   \n",
       "32559             Widowed       Adm-clerical       Unmarried   \n",
       "32560       Never-married       Adm-clerical       Own-child   \n",
       "\n",
       "                     race     sex  capital.gain  capital.loss  hours.per.week  \\\n",
       "0                   White  Female             0          4356              40   \n",
       "1                   White  Female             0          4356              18   \n",
       "2                   Black  Female             0          4356              40   \n",
       "3                   White  Female             0          3900              40   \n",
       "4                   White  Female             0          3900              40   \n",
       "5                   White  Female             0          3770              45   \n",
       "6                   White    Male             0          3770              40   \n",
       "7                   White  Female             0          3683              20   \n",
       "8                   White  Female             0          3683              40   \n",
       "9                   White    Male             0          3004              60   \n",
       "10                  Black  Female             0          3004              35   \n",
       "11                  White    Male             0          2824              45   \n",
       "12                  White  Female             0          2824              20   \n",
       "13                  White    Male             0          2824              55   \n",
       "14                  White    Male             0          2824              40   \n",
       "15                  White    Male             0          2824              40   \n",
       "16                  White    Male             0          2824              76   \n",
       "17                  White    Male             0          2824              50   \n",
       "18                  Black    Male             0          2824              40   \n",
       "19                  White    Male             0          2824              50   \n",
       "20                  White    Male             0          2824              40   \n",
       "21                  White  Female             0          2754              42   \n",
       "22                  White  Female             0          2754              25   \n",
       "23                  White    Male             0          2603              40   \n",
       "24                  White    Male             0          2603              32   \n",
       "25                  White    Male             0          2603              40   \n",
       "26                  White    Male             0          2603              32   \n",
       "27                  White    Male             0          2603              40   \n",
       "28                  White    Male             0          2559              50   \n",
       "29                  White    Male             0          2559              90   \n",
       "...                   ...     ...           ...           ...             ...   \n",
       "32531               White  Female             0             0              40   \n",
       "32532               White  Female             0             0              35   \n",
       "32533               White  Female             0             0              55   \n",
       "32534  Asian-Pac-Islander  Female             0             0              99   \n",
       "32535               White    Male             0             0              60   \n",
       "32536  Asian-Pac-Islander    Male             0             0              50   \n",
       "32537               White  Female             0             0              39   \n",
       "32538               Black    Male             0             0              35   \n",
       "32539               White  Female             0             0              55   \n",
       "32540               Black    Male             0             0              46   \n",
       "32541               White    Male             0             0              10   \n",
       "32542               White  Female             0             0              40   \n",
       "32543               Black  Female             0             0              32   \n",
       "32544               White    Male             0             0              25   \n",
       "32545               White  Female             0             0              48   \n",
       "32546               Other  Female             0             0              30   \n",
       "32547               White  Female             0             0              20   \n",
       "32548               White  Female             0             0              40   \n",
       "32549               White    Male             0             0              40   \n",
       "32550               White  Female             0             0              40   \n",
       "32551               White    Male             0             0              50   \n",
       "32552  Amer-Indian-Eskimo    Male             0             0              40   \n",
       "32553               White    Male             0             0              45   \n",
       "32554  Asian-Pac-Islander    Male             0             0              11   \n",
       "32555               White    Male             0             0              40   \n",
       "32556               White    Male             0             0              40   \n",
       "32557               White  Female             0             0              38   \n",
       "32558               White    Male             0             0              40   \n",
       "32559               White  Female             0             0              40   \n",
       "32560               White    Male             0             0              20   \n",
       "\n",
       "      native.country income  \n",
       "0      United-States  <=50K  \n",
       "1      United-States  <=50K  \n",
       "2      United-States  <=50K  \n",
       "3      United-States  <=50K  \n",
       "4      United-States  <=50K  \n",
       "5      United-States  <=50K  \n",
       "6      United-States  <=50K  \n",
       "7      United-States   >50K  \n",
       "8      United-States  <=50K  \n",
       "9                  ?   >50K  \n",
       "10     United-States   >50K  \n",
       "11     United-States   >50K  \n",
       "12     United-States   >50K  \n",
       "13     United-States   >50K  \n",
       "14     United-States   >50K  \n",
       "15     United-States   >50K  \n",
       "16     United-States   >50K  \n",
       "17     United-States   >50K  \n",
       "18                 ?   >50K  \n",
       "19     United-States   >50K  \n",
       "20     United-States   >50K  \n",
       "21     United-States  <=50K  \n",
       "22     United-States  <=50K  \n",
       "23     United-States  <=50K  \n",
       "24     United-States  <=50K  \n",
       "25     United-States  <=50K  \n",
       "26            Mexico  <=50K  \n",
       "27            Greece  <=50K  \n",
       "28     United-States   >50K  \n",
       "29     United-States   >50K  \n",
       "...              ...    ...  \n",
       "32531  United-States  <=50K  \n",
       "32532  United-States  <=50K  \n",
       "32533  United-States   >50K  \n",
       "32534  United-States  <=50K  \n",
       "32535  United-States   >50K  \n",
       "32536          Japan   >50K  \n",
       "32537  United-States  <=50K  \n",
       "32538  United-States  <=50K  \n",
       "32539  United-States   >50K  \n",
       "32540  United-States  <=50K  \n",
       "32541  United-States   >50K  \n",
       "32542  United-States  <=50K  \n",
       "32543  United-States  <=50K  \n",
       "32544  United-States  <=50K  \n",
       "32545  United-States  <=50K  \n",
       "32546  United-States  <=50K  \n",
       "32547  United-States   >50K  \n",
       "32548  United-States  <=50K  \n",
       "32549         Mexico  <=50K  \n",
       "32550  United-States  <=50K  \n",
       "32551  United-States  <=50K  \n",
       "32552  United-States  <=50K  \n",
       "32553  United-States  <=50K  \n",
       "32554         Taiwan  <=50K  \n",
       "32555  United-States   >50K  \n",
       "32556  United-States  <=50K  \n",
       "32557  United-States  <=50K  \n",
       "32558  United-States   >50K  \n",
       "32559  United-States  <=50K  \n",
       "32560  United-States  <=50K  \n",
       "\n",
       "[32561 rows x 15 columns]"
      ]
     },
     "execution_count": 23,
     "metadata": {},
     "output_type": "execute_result"
    }
   ],
   "source": [
    "tmp_samples"
   ]
  },
  {
   "cell_type": "markdown",
   "metadata": {},
   "source": [
    "# Test whether the input dataset contains header"
   ]
  },
  {
   "cell_type": "code",
   "execution_count": 8,
   "metadata": {},
   "outputs": [],
   "source": [
    "def identify_header(path, n=5, th=0.9):\n",
    "    df1 = pd.read_csv(path, header='infer', nrows=n)\n",
    "    df2 = pd.read_csv(path, header=None, nrows=n)\n",
    "    sim = (df1.dtypes.values == df2.dtypes.values).mean()\n",
    "    return 'infer' if sim < th else None"
   ]
  },
  {
   "cell_type": "code",
   "execution_count": 9,
   "metadata": {},
   "outputs": [],
   "source": [
    "if identify_header('adult.csv', n=5, th=0.9) == 'infer':\n",
    "    header = True\n",
    "else:\n",
    "    header = False"
   ]
  },
  {
   "cell_type": "code",
   "execution_count": 10,
   "metadata": {},
   "outputs": [],
   "source": [
    "sensitive = ['age','area','nation','nationality','sex','gender','ethnicity','race']\n",
    "candidate = []\n",
    "if header:\n",
    "    # Check the matched sensitive attributes\n",
    "    for i in tmp_samples.columns:\n",
    "        if i.lower() in sensitive:\n",
    "            candidate.append(i)"
   ]
  },
  {
   "cell_type": "markdown",
   "metadata": {},
   "source": [
    "# Generate Header"
   ]
  },
  {
   "cell_type": "code",
   "execution_count": 11,
   "metadata": {},
   "outputs": [],
   "source": [
    "# Convert input dataset to the required form\n",
    "index_range = range(len(tmp_samples.columns))\n",
    "df_value = pd.DataFrame(columns = ['value'],index = index_range)\n",
    "df_label = pd.DataFrame(columns = ['label'],index = index_range)"
   ]
  },
  {
   "cell_type": "code",
   "execution_count": 12,
   "metadata": {},
   "outputs": [
    {
     "ename": "AbstractMethodError",
     "evalue": "This method must be defined in the concrete class type",
     "output_type": "error",
     "traceback": [
      "\u001b[0;31m---------------------------------------------------------------------------\u001b[0m",
      "\u001b[0;31mAbstractMethodError\u001b[0m                       Traceback (most recent call last)",
      "\u001b[0;32m<ipython-input-12-659db1848570>\u001b[0m in \u001b[0;36m<module>\u001b[0;34m\u001b[0m\n\u001b[1;32m      1\u001b[0m \u001b[0midx\u001b[0m \u001b[0;34m=\u001b[0m \u001b[0;36m0\u001b[0m\u001b[0;34m\u001b[0m\u001b[0;34m\u001b[0m\u001b[0m\n\u001b[1;32m      2\u001b[0m \u001b[0;32mfor\u001b[0m \u001b[0mi\u001b[0m \u001b[0;32min\u001b[0m \u001b[0mtmp_samples\u001b[0m\u001b[0;34m.\u001b[0m\u001b[0mcolumns\u001b[0m\u001b[0;34m:\u001b[0m\u001b[0;34m\u001b[0m\u001b[0;34m\u001b[0m\u001b[0m\n\u001b[0;32m----> 3\u001b[0;31m     \u001b[0munique_val\u001b[0m \u001b[0;34m=\u001b[0m \u001b[0mlist\u001b[0m\u001b[0;34m(\u001b[0m\u001b[0mtmp_samples\u001b[0m\u001b[0;34m[\u001b[0m\u001b[0mi\u001b[0m\u001b[0;34m]\u001b[0m\u001b[0;34m.\u001b[0m\u001b[0munique\u001b[0m\u001b[0;34m(\u001b[0m\u001b[0;34m)\u001b[0m\u001b[0;34m)\u001b[0m\u001b[0;34m\u001b[0m\u001b[0;34m\u001b[0m\u001b[0m\n\u001b[0m\u001b[1;32m      4\u001b[0m     \u001b[0mval_no_nan\u001b[0m \u001b[0;34m=\u001b[0m \u001b[0;34m[\u001b[0m\u001b[0mx\u001b[0m \u001b[0;32mfor\u001b[0m \u001b[0mx\u001b[0m \u001b[0;32min\u001b[0m \u001b[0munique_val\u001b[0m \u001b[0;32mif\u001b[0m \u001b[0mstr\u001b[0m\u001b[0;34m(\u001b[0m\u001b[0mx\u001b[0m\u001b[0;34m)\u001b[0m \u001b[0;34m!=\u001b[0m \u001b[0;34m'nan'\u001b[0m\u001b[0;34m]\u001b[0m\u001b[0;34m\u001b[0m\u001b[0;34m\u001b[0m\u001b[0m\n\u001b[1;32m      5\u001b[0m     \u001b[0;32mif\u001b[0m \u001b[0mlen\u001b[0m\u001b[0;34m(\u001b[0m\u001b[0mval_no_nan\u001b[0m\u001b[0;34m)\u001b[0m \u001b[0;34m==\u001b[0m \u001b[0;36m0\u001b[0m\u001b[0;34m:\u001b[0m\u001b[0;34m\u001b[0m\u001b[0;34m\u001b[0m\u001b[0m\n",
      "\u001b[0;32m~/opt/anaconda3/envs/cs576/lib/python3.6/site-packages/pandas/core/series.py\u001b[0m in \u001b[0;36munique\u001b[0;34m(self)\u001b[0m\n\u001b[1;32m   1665\u001b[0m \u001b[0mAnimal\u001b[0m\u001b[0;34m\u001b[0m\u001b[0;34m\u001b[0m\u001b[0m\n\u001b[1;32m   1666\u001b[0m \u001b[0mFalcon\u001b[0m    \u001b[0;36m370.0\u001b[0m\u001b[0;34m\u001b[0m\u001b[0;34m\u001b[0m\u001b[0m\n\u001b[0;32m-> 1667\u001b[0;31m \u001b[0mParrot\u001b[0m     \u001b[0;36m25.0\u001b[0m\u001b[0;34m\u001b[0m\u001b[0;34m\u001b[0m\u001b[0m\n\u001b[0m\u001b[1;32m   1668\u001b[0m \u001b[0mName\u001b[0m\u001b[0;34m:\u001b[0m \u001b[0mMax\u001b[0m \u001b[0mSpeed\u001b[0m\u001b[0;34m,\u001b[0m \u001b[0mdtype\u001b[0m\u001b[0;34m:\u001b[0m \u001b[0mfloat64\u001b[0m\u001b[0;34m\u001b[0m\u001b[0;34m\u001b[0m\u001b[0m\n\u001b[1;32m   1669\u001b[0m \u001b[0;34m>>\u001b[0m\u001b[0;34m>\u001b[0m \u001b[0mser\u001b[0m\u001b[0;34m.\u001b[0m\u001b[0mgroupby\u001b[0m\u001b[0;34m(\u001b[0m\u001b[0mlevel\u001b[0m\u001b[0;34m=\u001b[0m\u001b[0;34m\"Type\"\u001b[0m\u001b[0;34m)\u001b[0m\u001b[0;34m.\u001b[0m\u001b[0mmean\u001b[0m\u001b[0;34m(\u001b[0m\u001b[0;34m)\u001b[0m\u001b[0;34m\u001b[0m\u001b[0;34m\u001b[0m\u001b[0m\n",
      "\u001b[0;32m~/opt/anaconda3/envs/cs576/lib/python3.6/site-packages/pandas/core/base.py\u001b[0m in \u001b[0;36munique\u001b[0;34m(self)\u001b[0m\n\u001b[1;32m   1312\u001b[0m         \u001b[0mReturn\u001b[0m \u001b[0mboolean\u001b[0m \u001b[0;32mif\u001b[0m \u001b[0mvalues\u001b[0m \u001b[0;32min\u001b[0m \u001b[0mthe\u001b[0m \u001b[0mobject\u001b[0m \u001b[0mare\u001b[0m \u001b[0munique\u001b[0m\u001b[0;34m.\u001b[0m\u001b[0;34m\u001b[0m\u001b[0;34m\u001b[0m\u001b[0m\n\u001b[1;32m   1313\u001b[0m \u001b[0;34m\u001b[0m\u001b[0m\n\u001b[0;32m-> 1314\u001b[0;31m         \u001b[0mReturns\u001b[0m\u001b[0;34m\u001b[0m\u001b[0;34m\u001b[0m\u001b[0m\n\u001b[0m\u001b[1;32m   1315\u001b[0m         \u001b[0;34m-\u001b[0m\u001b[0;34m-\u001b[0m\u001b[0;34m-\u001b[0m\u001b[0;34m-\u001b[0m\u001b[0;34m-\u001b[0m\u001b[0;34m-\u001b[0m\u001b[0;34m-\u001b[0m\u001b[0;34m\u001b[0m\u001b[0;34m\u001b[0m\u001b[0m\n\u001b[1;32m   1316\u001b[0m         \u001b[0mbool\u001b[0m\u001b[0;34m\u001b[0m\u001b[0;34m\u001b[0m\u001b[0m\n",
      "\u001b[0;32m~/opt/anaconda3/envs/cs576/lib/python3.6/site-packages/pandas/core/algorithms.py\u001b[0m in \u001b[0;36munique\u001b[0;34m(values)\u001b[0m\n\u001b[1;32m    361\u001b[0m     >>> pd.unique(pd.Series(pd.Categorical(list('baabc'),\n\u001b[1;32m    362\u001b[0m     ...                                    categories=list('abc'))))\n\u001b[0;32m--> 363\u001b[0;31m     \u001b[0;34m[\u001b[0m\u001b[0mb\u001b[0m\u001b[0;34m,\u001b[0m \u001b[0ma\u001b[0m\u001b[0;34m,\u001b[0m \u001b[0mc\u001b[0m\u001b[0;34m]\u001b[0m\u001b[0;34m\u001b[0m\u001b[0;34m\u001b[0m\u001b[0m\n\u001b[0m\u001b[1;32m    364\u001b[0m     \u001b[0mCategories\u001b[0m \u001b[0;34m(\u001b[0m\u001b[0;36m3\u001b[0m\u001b[0;34m,\u001b[0m \u001b[0mobject\u001b[0m\u001b[0;34m)\u001b[0m\u001b[0;34m:\u001b[0m \u001b[0;34m[\u001b[0m\u001b[0mb\u001b[0m\u001b[0;34m,\u001b[0m \u001b[0ma\u001b[0m\u001b[0;34m,\u001b[0m \u001b[0mc\u001b[0m\u001b[0;34m]\u001b[0m\u001b[0;34m\u001b[0m\u001b[0;34m\u001b[0m\u001b[0m\n\u001b[1;32m    365\u001b[0m \u001b[0;34m\u001b[0m\u001b[0m\n",
      "\u001b[0;32m~/opt/anaconda3/envs/cs576/lib/python3.6/site-packages/pandas/core/algorithms.py\u001b[0m in \u001b[0;36m_reconstruct_data\u001b[0;34m(values, dtype, original)\u001b[0m\n\u001b[1;32m    145\u001b[0m             \u001b[0;31m# Datetime\u001b[0m\u001b[0;34m\u001b[0m\u001b[0;34m\u001b[0m\u001b[0;34m\u001b[0m\u001b[0m\n\u001b[1;32m    146\u001b[0m             \u001b[0;32mif\u001b[0m \u001b[0mvalues\u001b[0m\u001b[0;34m.\u001b[0m\u001b[0mndim\u001b[0m \u001b[0;34m>\u001b[0m \u001b[0;36m1\u001b[0m \u001b[0;32mand\u001b[0m \u001b[0mis_datetime64_ns_dtype\u001b[0m\u001b[0;34m(\u001b[0m\u001b[0mvals_dtype\u001b[0m\u001b[0;34m)\u001b[0m\u001b[0;34m:\u001b[0m\u001b[0;34m\u001b[0m\u001b[0;34m\u001b[0m\u001b[0m\n\u001b[0;32m--> 147\u001b[0;31m                 \u001b[0;31m# Avoid calling the DatetimeIndex constructor as it is 1D only\u001b[0m\u001b[0;34m\u001b[0m\u001b[0;34m\u001b[0m\u001b[0;34m\u001b[0m\u001b[0m\n\u001b[0m\u001b[1;32m    148\u001b[0m                 \u001b[0;31m# Note: this is reached by DataFrame.rank calls GH#27027\u001b[0m\u001b[0;34m\u001b[0m\u001b[0;34m\u001b[0m\u001b[0;34m\u001b[0m\u001b[0m\n\u001b[1;32m    149\u001b[0m                 \u001b[0;31m# TODO(EA2D): special case not needed with 2D EAs\u001b[0m\u001b[0;34m\u001b[0m\u001b[0;34m\u001b[0m\u001b[0;34m\u001b[0m\u001b[0m\n",
      "\u001b[0;32m~/opt/anaconda3/envs/cs576/lib/python3.6/site-packages/pandas/core/dtypes/common.py\u001b[0m in \u001b[0;36mis_extension_array_dtype\u001b[0;34m(arr_or_dtype)\u001b[0m\n\u001b[1;32m   1747\u001b[0m     \u001b[0mTypeError\u001b[0m \u001b[0;32mif\u001b[0m \u001b[0;32mnot\u001b[0m \u001b[0ma\u001b[0m \u001b[0mdtype\u001b[0m\u001b[0;34m\u001b[0m\u001b[0;34m\u001b[0m\u001b[0m\n\u001b[1;32m   1748\u001b[0m     \"\"\"\n\u001b[0;32m-> 1749\u001b[0;31m     \u001b[0;31m# short-circuit\u001b[0m\u001b[0;34m\u001b[0m\u001b[0;34m\u001b[0m\u001b[0;34m\u001b[0m\u001b[0m\n\u001b[0m\u001b[1;32m   1750\u001b[0m     \u001b[0;32mif\u001b[0m \u001b[0misinstance\u001b[0m\u001b[0;34m(\u001b[0m\u001b[0mdtype\u001b[0m\u001b[0;34m,\u001b[0m \u001b[0mnp\u001b[0m\u001b[0;34m.\u001b[0m\u001b[0mndarray\u001b[0m\u001b[0;34m)\u001b[0m\u001b[0;34m:\u001b[0m\u001b[0;34m\u001b[0m\u001b[0;34m\u001b[0m\u001b[0m\n\u001b[1;32m   1751\u001b[0m         \u001b[0;32mreturn\u001b[0m \u001b[0mdtype\u001b[0m\u001b[0;34m.\u001b[0m\u001b[0mdtype\u001b[0m\u001b[0;34m\u001b[0m\u001b[0;34m\u001b[0m\u001b[0m\n",
      "\u001b[0;32m~/opt/anaconda3/envs/cs576/lib/python3.6/site-packages/pandas/core/dtypes/dtypes.py\u001b[0m in \u001b[0;36mfind\u001b[0;34m(self, dtype)\u001b[0m\n\u001b[1;32m     87\u001b[0m     \u001b[0;32mdef\u001b[0m \u001b[0mreset_cache\u001b[0m\u001b[0;34m(\u001b[0m\u001b[0mcls\u001b[0m\u001b[0;34m)\u001b[0m \u001b[0;34m->\u001b[0m \u001b[0;32mNone\u001b[0m\u001b[0;34m:\u001b[0m\u001b[0;34m\u001b[0m\u001b[0;34m\u001b[0m\u001b[0m\n\u001b[1;32m     88\u001b[0m         \u001b[0;34m\"\"\" clear the cache \"\"\"\u001b[0m\u001b[0;34m\u001b[0m\u001b[0;34m\u001b[0m\u001b[0m\n\u001b[0;32m---> 89\u001b[0;31m         \u001b[0mcls\u001b[0m\u001b[0;34m.\u001b[0m\u001b[0m_cache\u001b[0m \u001b[0;34m=\u001b[0m \u001b[0;34m{\u001b[0m\u001b[0;34m}\u001b[0m\u001b[0;34m\u001b[0m\u001b[0;34m\u001b[0m\u001b[0m\n\u001b[0m\u001b[1;32m     90\u001b[0m \u001b[0;34m\u001b[0m\u001b[0m\n\u001b[1;32m     91\u001b[0m \u001b[0;34m\u001b[0m\u001b[0m\n",
      "\u001b[0;32m~/opt/anaconda3/envs/cs576/lib/python3.6/site-packages/pandas/core/dtypes/base.py\u001b[0m in \u001b[0;36mconstruct_from_string\u001b[0;34m(cls, string)\u001b[0m\n\u001b[1;32m    292\u001b[0m         \u001b[0;32mif\u001b[0m \u001b[0misinstance\u001b[0m\u001b[0;34m(\u001b[0m\u001b[0mdtype\u001b[0m\u001b[0;34m,\u001b[0m \u001b[0mstr\u001b[0m\u001b[0;34m)\u001b[0m\u001b[0;34m:\u001b[0m\u001b[0;34m\u001b[0m\u001b[0;34m\u001b[0m\u001b[0m\n\u001b[1;32m    293\u001b[0m             \u001b[0;32mtry\u001b[0m\u001b[0;34m:\u001b[0m\u001b[0;34m\u001b[0m\u001b[0;34m\u001b[0m\u001b[0m\n\u001b[0;32m--> 294\u001b[0;31m                 \u001b[0;32mreturn\u001b[0m \u001b[0mcls\u001b[0m\u001b[0;34m.\u001b[0m\u001b[0mconstruct_from_string\u001b[0m\u001b[0;34m(\u001b[0m\u001b[0mdtype\u001b[0m\u001b[0;34m)\u001b[0m \u001b[0;32mis\u001b[0m \u001b[0;32mnot\u001b[0m \u001b[0;32mNone\u001b[0m\u001b[0;34m\u001b[0m\u001b[0;34m\u001b[0m\u001b[0m\n\u001b[0m\u001b[1;32m    295\u001b[0m             \u001b[0;32mexcept\u001b[0m \u001b[0mTypeError\u001b[0m\u001b[0;34m:\u001b[0m\u001b[0;34m\u001b[0m\u001b[0;34m\u001b[0m\u001b[0m\n\u001b[1;32m    296\u001b[0m                 \u001b[0;32mreturn\u001b[0m \u001b[0;32mFalse\u001b[0m\u001b[0;34m\u001b[0m\u001b[0;34m\u001b[0m\u001b[0m\n",
      "\u001b[0;31mAbstractMethodError\u001b[0m: This method must be defined in the concrete class type"
     ]
    }
   ],
   "source": [
    "idx = 0\n",
    "for i in tmp_samples.columns:\n",
    "    unique_val = list(tmp_samples[i].unique())\n",
    "    val_no_nan = [x for x in unique_val if str(x) != 'nan']\n",
    "    if len(val_no_nan) == 0:\n",
    "        # No value in any cell of this attribute\n",
    "        val_no_nan = [i]\n",
    "    df_value.at[idx,'value'] = str(val_no_nan)\n",
    "    df_label.at[idx,'label'] = i\n",
    "    idx += 1"
   ]
  },
  {
   "cell_type": "code",
   "execution_count": 13,
   "metadata": {},
   "outputs": [
    {
     "name": "stderr",
     "output_type": "stream",
     "text": [
      "WARNING: Logging before flag parsing goes to stderr.\n",
      "W1201 01:28:51.364897 4383374848 deprecation.py:506] From /Users/max/opt/anaconda3/envs/cs576/lib/python3.6/site-packages/tensorflow/python/ops/init_ops.py:97: calling Zeros.__init__ (from tensorflow.python.ops.init_ops) with dtype is deprecated and will be removed in a future version.\n",
      "Instructions for updating:\n",
      "Call initializer instance with the dtype argument instead of passing it to the constructor\n",
      "W1201 01:28:51.367347 4383374848 deprecation.py:506] From /Users/max/opt/anaconda3/envs/cs576/lib/python3.6/site-packages/tensorflow/python/ops/init_ops.py:97: calling Ones.__init__ (from tensorflow.python.ops.init_ops) with dtype is deprecated and will be removed in a future version.\n",
      "Instructions for updating:\n",
      "Call initializer instance with the dtype argument instead of passing it to the constructor\n",
      "W1201 01:28:51.373263 4383374848 deprecation.py:506] From /Users/max/opt/anaconda3/envs/cs576/lib/python3.6/site-packages/tensorflow/python/ops/init_ops.py:97: calling VarianceScaling.__init__ (from tensorflow.python.ops.init_ops) with dtype is deprecated and will be removed in a future version.\n",
      "Instructions for updating:\n",
      "Call initializer instance with the dtype argument instead of passing it to the constructor\n"
     ]
    }
   ],
   "source": [
    "# Load Sherlock architecture and weights from files\n",
    "file = open('../models/sherlock_model.json', 'r')\n",
    "sherlock_file = file.read()\n",
    "sherlock = tf.keras.models.model_from_json(sherlock_file)\n",
    "file.close()\n",
    "\n",
    "sherlock.load_weights('../models/sherlock_weights.h5')\n",
    "sherlock.compile(optimizer='adam',\n",
    "                loss='categorical_crossentropy',\n",
    "                metrics=['categorical_accuracy'])"
   ]
  },
  {
   "cell_type": "code",
   "execution_count": 128,
   "metadata": {},
   "outputs": [
    {
     "name": "stderr",
     "output_type": "stream",
     "text": [
      "100%|██████████| 15/15 [00:00<00:00, 337.65it/s]\n"
     ]
    }
   ],
   "source": [
    "test_samples_converted, y_test = convert_string_lists_to_lists(df_value, df_label,'value','label')"
   ]
  },
  {
   "cell_type": "code",
   "execution_count": 129,
   "metadata": {},
   "outputs": [
    {
     "name": "stdout",
     "output_type": "stream",
     "text": [
      "Preparing feature extraction by downloading 2 files:\n",
      "        \n",
      " ../sherlock/features/glove.6B.50d.txt and \n",
      " ../sherlock/features/par_vec_trained_400.pkl.docvecs.vectors_docs.npy.\n",
      "        \n",
      "All files for extracting word and paragraph embeddings are present.\n"
     ]
    }
   ],
   "source": [
    "X_test = extract_features(test_samples_converted)"
   ]
  },
  {
   "cell_type": "code",
   "execution_count": 130,
   "metadata": {},
   "outputs": [],
   "source": [
    "predicted_labels = predict_sherlock(X_test, nn_id='sherlock')"
   ]
  },
  {
   "cell_type": "code",
   "execution_count": 131,
   "metadata": {},
   "outputs": [],
   "source": [
    "# If there is no header, assign the generated header to the dataset\n",
    "if not header:\n",
    "    tmp_samples.columns = predicted_labels"
   ]
  },
  {
   "cell_type": "code",
   "execution_count": 132,
   "metadata": {},
   "outputs": [],
   "source": [
    "# Filter out sensitive attributes\n",
    "for i in zip(tmp_samples.columns,predicted_labels):\n",
    "    if i not in candidate:\n",
    "        if i in ['country','sex','age']:\n",
    "            candidate.append(i)"
   ]
  },
  {
   "cell_type": "markdown",
   "metadata": {},
   "source": [
    "# Test whether the attribute is categorical"
   ]
  },
  {
   "cell_type": "code",
   "execution_count": 133,
   "metadata": {},
   "outputs": [],
   "source": [
    "def summary_age(x):\n",
    "    age = {'<16':0,'16-24':0,'25-34':0,\n",
    "          '35-44':0,'45-54':0,'55-64':0,'>64':0}\n",
    "    for i in x:\n",
    "        if i < 16:\n",
    "            age['<16'] += 1\n",
    "        elif i <= 24:\n",
    "            age['16-24'] += 1\n",
    "        elif i <= 34:\n",
    "            age['25-34'] += 1\n",
    "        elif i <= 44:\n",
    "            age['35-44'] += 1\n",
    "        elif i <= 54:\n",
    "            age['45-54'] += 1\n",
    "        elif i <= 64:\n",
    "            age['55-64'] += 1\n",
    "        else:\n",
    "            age['>64'] += 1\n",
    "    return age"
   ]
  },
  {
   "cell_type": "code",
   "execution_count": 134,
   "metadata": {},
   "outputs": [
    {
     "name": "stderr",
     "output_type": "stream",
     "text": [
      "/Users/max/opt/anaconda3/envs/cs576/lib/python3.6/site-packages/ipykernel_launcher.py:12: FutureWarning: Conversion of the second argument of issubdtype from `int` to `np.signedinteger` is deprecated. In future, it will be treated as `np.int64 == np.dtype(int).type`.\n",
      "  if sys.path[0] == '':\n",
      "/Users/max/opt/anaconda3/envs/cs576/lib/python3.6/site-packages/ipykernel_launcher.py:13: FutureWarning: Conversion of the second argument of issubdtype from `float` to `np.floating` is deprecated. In future, it will be treated as `np.float64 == np.dtype(float).type`.\n",
      "  del sys.path[0]\n"
     ]
    }
   ],
   "source": [
    "data_summary = []\n",
    "for i in tmp_samples.columns:\n",
    "    if i in candidate:\n",
    "        # It must be categorical\n",
    "        if i.lower() in ['age']:\n",
    "            summary = summary_age(tmp_samples[i])\n",
    "        else:\n",
    "            summary = tmp_samples[i].value_counts()\n",
    "    else:\n",
    "        # check whether it is categorical or not\n",
    "        if len(tmp_samples[i].unique()) / tmp_samples.shape[0] < 0.2:\n",
    "            if not(isinstance(tmp_samples[i].dtype, int) or np.issubdtype(tmp_samples[i].dtype, np.int) or \n",
    "                isinstance(tmp_samples[i].dtype, float) or np.issubdtype(tmp_samples[i].dtype, np.float)):\n",
    "                # we determine it is categorical\n",
    "                summary = tmp_samples[i].value_counts()\n",
    "    data_summary.append(summary)"
   ]
  },
  {
   "cell_type": "markdown",
   "metadata": {},
   "source": [
    "# Further, check what we can extend"
   ]
  },
  {
   "cell_type": "markdown",
   "metadata": {},
   "source": [
    "##### First, predict the gender based on first name, if there is no gender attribute but with name attribute"
   ]
  },
  {
   "cell_type": "code",
   "execution_count": 135,
   "metadata": {},
   "outputs": [
    {
     "name": "stdout",
     "output_type": "stream",
     "text": [
      "import complete\n",
      "32,031 male names\n",
      "56,347 female names\n",
      "classifier accuracy: 96.81%\n"
     ]
    }
   ],
   "source": [
    "gp = GenderPredictor()\n",
    "gp.train_and_test()"
   ]
  },
  {
   "cell_type": "code",
   "execution_count": 136,
   "metadata": {},
   "outputs": [],
   "source": [
    "get_gender = get_name = False\n",
    "name = None\n",
    "for i in zip(tmp_samples.columns, predicted_labels):\n",
    "    if (i[0].lower() in ['name','first_name','first','last','last_name','first name','last name']) or (i[1].lower() in ['name','first_name','first','last','last_name','first name','last name']):\n",
    "        get_name =True\n",
    "        name = i[0]\n",
    "    if i[0].lower() in ['sex','gender'] or i[1].lower() in ['sex']:\n",
    "        get_gender = True\n",
    "if get_name and (not get_gender):\n",
    "    male = female = 0\n",
    "    for i in tmp_samples[i]:\n",
    "        if gp.classify(i) == 'M':\n",
    "            male += 1\n",
    "        else:\n",
    "            female += 1\n",
    "    data_summary.append({'Male':male,'Female':female})"
   ]
  },
  {
   "cell_type": "markdown",
   "metadata": {},
   "source": [
    "# Try to extend combined sensitive attributes information"
   ]
  },
  {
   "cell_type": "code",
   "execution_count": 141,
   "metadata": {},
   "outputs": [
    {
     "data": {
      "text/plain": [
       "['age', 'race', 'sex']"
      ]
     },
     "execution_count": 141,
     "metadata": {},
     "output_type": "execute_result"
    }
   ],
   "source": [
    "candidate"
   ]
  },
  {
   "cell_type": "code",
   "execution_count": 160,
   "metadata": {},
   "outputs": [],
   "source": [
    "for L in range(2, len(candidate)+1):\n",
    "    for subset in itertools.combinations(candidate, L):\n",
    "        data_summary.append(tmp_samples.groupby(list(subset)).size())"
   ]
  },
  {
   "cell_type": "code",
   "execution_count": null,
   "metadata": {},
   "outputs": [],
   "source": []
  }
 ],
 "metadata": {
  "kernelspec": {
   "display_name": "Python 3",
   "language": "python",
   "name": "python3"
  },
  "language_info": {
   "codemirror_mode": {
    "name": "ipython",
    "version": 3
   },
   "file_extension": ".py",
   "mimetype": "text/x-python",
   "name": "python",
   "nbconvert_exporter": "python",
   "pygments_lexer": "ipython3",
   "version": "3.6.12"
  }
 },
 "nbformat": 4,
 "nbformat_minor": 4
}
