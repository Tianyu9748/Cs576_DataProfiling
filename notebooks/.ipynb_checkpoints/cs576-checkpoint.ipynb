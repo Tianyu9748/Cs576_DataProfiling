{
 "cells": [
  {
   "cell_type": "code",
   "execution_count": 140,
   "metadata": {},
   "outputs": [],
   "source": [
    "import sys\n",
    "import numbers\n",
    "import matplotlib.pyplot as plt\n",
    "import numpy as np\n",
    "import pandas as pd\n",
    "from sklearn.preprocessing import LabelEncoder\n",
    "from sklearn.metrics import f1_score\n",
    "import tensorflow as tf\n",
    "'pip install git+git://github.com/clintval/gender_predictor.git'\n",
    "from gender_predictor import GenderPredictor\n",
    "import itertools"
   ]
  },
  {
   "cell_type": "code",
   "execution_count": 120,
   "metadata": {},
   "outputs": [],
   "source": [
    "from sherlock import helpers\n",
    "from sherlock.features.preprocessing import extract_features, convert_string_lists_to_lists, prepare_feature_extraction\n",
    "from sherlock.deploy.train_sherlock import train_sherlock\n",
    "from sherlock.deploy.predict_sherlock import predict_sherlock"
   ]
  },
  {
   "cell_type": "markdown",
   "metadata": {},
   "source": [
    "# Read input dataset"
   ]
  },
  {
   "cell_type": "code",
   "execution_count": 121,
   "metadata": {},
   "outputs": [],
   "source": [
    "tmp_samples = pd.read_csv('adult.csv')"
   ]
  },
  {
   "cell_type": "markdown",
   "metadata": {},
   "source": [
    "# Test whether the input dataset contains header"
   ]
  },
  {
   "cell_type": "code",
   "execution_count": 122,
   "metadata": {},
   "outputs": [],
   "source": [
    "def identify_header(path, n=5, th=0.9):\n",
    "    df1 = pd.read_csv(path, header='infer', nrows=n)\n",
    "    df2 = pd.read_csv(path, header=None, nrows=n)\n",
    "    sim = (df1.dtypes.values == df2.dtypes.values).mean()\n",
    "    return 'infer' if sim < th else None"
   ]
  },
  {
   "cell_type": "code",
   "execution_count": 123,
   "metadata": {},
   "outputs": [],
   "source": [
    "if identify_header('adult.csv', n=5, th=0.9) == 'infer':\n",
    "    header = True\n",
    "else:\n",
    "    header = False"
   ]
  },
  {
   "cell_type": "code",
   "execution_count": 124,
   "metadata": {},
   "outputs": [],
   "source": [
    "sensitive = ['age','area','nation','nationality','sex','gender','ethnicity','race']\n",
    "candidate = []\n",
    "if header:\n",
    "    # Check the matched sensitive attributes\n",
    "    for i in tmp_samples.columns:\n",
    "        if i.lower() in sensitive:\n",
    "            candidate.append(i)"
   ]
  },
  {
   "cell_type": "markdown",
   "metadata": {},
   "source": [
    "# Generate Header"
   ]
  },
  {
   "cell_type": "code",
   "execution_count": 125,
   "metadata": {},
   "outputs": [],
   "source": [
    "# Convert input dataset to the required form\n",
    "index_range = range(len(tmp_samples.columns))\n",
    "df_value = pd.DataFrame(columns = ['value'],index = index_range)\n",
    "df_label = pd.DataFrame(columns = ['label'],index = index_range)"
   ]
  },
  {
   "cell_type": "code",
   "execution_count": 126,
   "metadata": {},
   "outputs": [],
   "source": [
    "idx = 0\n",
    "for i in tmp_samples.columns:\n",
    "    unique_val = list(tmp_samples[i].unique())\n",
    "    val_no_nan = [x for x in unique_val if str(x) != 'nan']\n",
    "    if len(val_no_nan) == 0:\n",
    "        # No value in any cell of this attribute\n",
    "        val_no_nan = [i]\n",
    "    df_value.at[idx,'value'] = str(val_no_nan)\n",
    "    df_label.at[idx,'label'] = i\n",
    "    idx += 1"
   ]
  },
  {
   "cell_type": "code",
   "execution_count": 127,
   "metadata": {},
   "outputs": [],
   "source": [
    "# Load Sherlock architecture and weights from files\n",
    "file = open('../models/sherlock_model.json', 'r')\n",
    "sherlock_file = file.read()\n",
    "sherlock = tf.keras.models.model_from_json(sherlock_file)\n",
    "file.close()\n",
    "\n",
    "sherlock.load_weights('../models/sherlock_weights.h5')\n",
    "sherlock.compile(optimizer='adam',\n",
    "                loss='categorical_crossentropy',\n",
    "                metrics=['categorical_accuracy'])"
   ]
  },
  {
   "cell_type": "code",
   "execution_count": 128,
   "metadata": {},
   "outputs": [
    {
     "name": "stderr",
     "output_type": "stream",
     "text": [
      "100%|██████████| 15/15 [00:00<00:00, 337.65it/s]\n"
     ]
    }
   ],
   "source": [
    "test_samples_converted, y_test = convert_string_lists_to_lists(df_value, df_label,'value','label')"
   ]
  },
  {
   "cell_type": "code",
   "execution_count": 129,
   "metadata": {},
   "outputs": [
    {
     "name": "stdout",
     "output_type": "stream",
     "text": [
      "Preparing feature extraction by downloading 2 files:\n",
      "        \n",
      " ../sherlock/features/glove.6B.50d.txt and \n",
      " ../sherlock/features/par_vec_trained_400.pkl.docvecs.vectors_docs.npy.\n",
      "        \n",
      "All files for extracting word and paragraph embeddings are present.\n"
     ]
    }
   ],
   "source": [
    "X_test = extract_features(test_samples_converted)"
   ]
  },
  {
   "cell_type": "code",
   "execution_count": 130,
   "metadata": {},
   "outputs": [],
   "source": [
    "predicted_labels = predict_sherlock(X_test, nn_id='sherlock')"
   ]
  },
  {
   "cell_type": "code",
   "execution_count": 131,
   "metadata": {},
   "outputs": [],
   "source": [
    "# If there is no header, assign the generated header to the dataset\n",
    "if not header:\n",
    "    tmp_samples.columns = predicted_labels"
   ]
  },
  {
   "cell_type": "code",
   "execution_count": 132,
   "metadata": {},
   "outputs": [],
   "source": [
    "# Filter out sensitive attributes\n",
    "for i in zip(tmp_samples.columns,predicted_labels):\n",
    "    if i not in candidate:\n",
    "        if i in ['country','sex','age']:\n",
    "            candidate.append(i)"
   ]
  },
  {
   "cell_type": "markdown",
   "metadata": {},
   "source": [
    "# Test whether the attribute is categorical"
   ]
  },
  {
   "cell_type": "code",
   "execution_count": 133,
   "metadata": {},
   "outputs": [],
   "source": [
    "def summary_age(x):\n",
    "    age = {'<16':0,'16-24':0,'25-34':0,\n",
    "          '35-44':0,'45-54':0,'55-64':0,'>64':0}\n",
    "    for i in x:\n",
    "        if i < 16:\n",
    "            age['<16'] += 1\n",
    "        elif i <= 24:\n",
    "            age['16-24'] += 1\n",
    "        elif i <= 34:\n",
    "            age['25-34'] += 1\n",
    "        elif i <= 44:\n",
    "            age['35-44'] += 1\n",
    "        elif i <= 54:\n",
    "            age['45-54'] += 1\n",
    "        elif i <= 64:\n",
    "            age['55-64'] += 1\n",
    "        else:\n",
    "            age['>64'] += 1\n",
    "    return age"
   ]
  },
  {
   "cell_type": "code",
   "execution_count": 134,
   "metadata": {},
   "outputs": [
    {
     "name": "stderr",
     "output_type": "stream",
     "text": [
      "/Users/max/opt/anaconda3/envs/cs576/lib/python3.6/site-packages/ipykernel_launcher.py:12: FutureWarning: Conversion of the second argument of issubdtype from `int` to `np.signedinteger` is deprecated. In future, it will be treated as `np.int64 == np.dtype(int).type`.\n",
      "  if sys.path[0] == '':\n",
      "/Users/max/opt/anaconda3/envs/cs576/lib/python3.6/site-packages/ipykernel_launcher.py:13: FutureWarning: Conversion of the second argument of issubdtype from `float` to `np.floating` is deprecated. In future, it will be treated as `np.float64 == np.dtype(float).type`.\n",
      "  del sys.path[0]\n"
     ]
    }
   ],
   "source": [
    "data_summary = []\n",
    "for i in tmp_samples.columns:\n",
    "    if i in candidate:\n",
    "        # It must be categorical\n",
    "        if i.lower() in ['age']:\n",
    "            summary = summary_age(tmp_samples[i])\n",
    "        else:\n",
    "            summary = tmp_samples[i].value_counts()\n",
    "    else:\n",
    "        # check whether it is categorical or not\n",
    "        if len(tmp_samples[i].unique()) / tmp_samples.shape[0] < 0.2:\n",
    "            if not(isinstance(tmp_samples[i].dtype, int) or np.issubdtype(tmp_samples[i].dtype, np.int) or \n",
    "                isinstance(tmp_samples[i].dtype, float) or np.issubdtype(tmp_samples[i].dtype, np.float)):\n",
    "                # we determine it is categorical\n",
    "                summary = tmp_samples[i].value_counts()\n",
    "    data_summary.append(summary)"
   ]
  },
  {
   "cell_type": "markdown",
   "metadata": {},
   "source": [
    "# Further, check what we can extend"
   ]
  },
  {
   "cell_type": "markdown",
   "metadata": {},
   "source": [
    "##### First, predict the gender based on first name, if there is no gender attribute but with name attribute"
   ]
  },
  {
   "cell_type": "code",
   "execution_count": 135,
   "metadata": {},
   "outputs": [
    {
     "name": "stdout",
     "output_type": "stream",
     "text": [
      "import complete\n",
      "32,031 male names\n",
      "56,347 female names\n",
      "classifier accuracy: 96.81%\n"
     ]
    }
   ],
   "source": [
    "gp = GenderPredictor()\n",
    "gp.train_and_test()"
   ]
  },
  {
   "cell_type": "code",
   "execution_count": 136,
   "metadata": {},
   "outputs": [],
   "source": [
    "get_gender = get_name = False\n",
    "name = None\n",
    "for i in zip(tmp_samples.columns, predicted_labels):\n",
    "    if (i[0].lower() in ['name','first_name','first','last','last_name','first name','last name']) or (i[1].lower() in ['name','first_name','first','last','last_name','first name','last name']):\n",
    "        get_name =True\n",
    "        name = i[0]\n",
    "    if i[0].lower() in ['sex','gender'] or i[1].lower() in ['sex']:\n",
    "        get_gender = True\n",
    "if get_name and (not get_gender):\n",
    "    male = female = 0\n",
    "    for i in tmp_samples[i]:\n",
    "        if gp.classify(i) == 'M':\n",
    "            male += 1\n",
    "        else:\n",
    "            female += 1\n",
    "    data_summary.append({'Male':male,'Female':female})"
   ]
  },
  {
   "cell_type": "markdown",
   "metadata": {},
   "source": [
    "# Try to extend combined sensitive attributes information"
   ]
  },
  {
   "cell_type": "code",
   "execution_count": 141,
   "metadata": {},
   "outputs": [
    {
     "data": {
      "text/plain": [
       "['age', 'race', 'sex']"
      ]
     },
     "execution_count": 141,
     "metadata": {},
     "output_type": "execute_result"
    }
   ],
   "source": [
    "candidate"
   ]
  },
  {
   "cell_type": "code",
   "execution_count": 160,
   "metadata": {},
   "outputs": [],
   "source": [
    "for L in range(2, len(candidate)+1):\n",
    "    for subset in itertools.combinations(candidate, L):\n",
    "        data_summary.append(tmp_samples.groupby(list(subset)).size())"
   ]
  },
  {
   "cell_type": "code",
   "execution_count": null,
   "metadata": {},
   "outputs": [],
   "source": []
  }
 ],
 "metadata": {
  "kernelspec": {
   "display_name": "Python 3",
   "language": "python",
   "name": "python3"
  },
  "language_info": {
   "codemirror_mode": {
    "name": "ipython",
    "version": 3
   },
   "file_extension": ".py",
   "mimetype": "text/x-python",
   "name": "python",
   "nbconvert_exporter": "python",
   "pygments_lexer": "ipython3",
   "version": "3.6.12"
  }
 },
 "nbformat": 4,
 "nbformat_minor": 4
}
